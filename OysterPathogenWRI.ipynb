{
 "cells": [
  {
   "cell_type": "markdown",
   "id": "13130130-e5de-4c0d-8aae-600eca17d3db",
   "metadata": {},
   "source": [
    "# Oyster Pathogen WRI Project\n",
    "## This is a notebook for analyzing Nanopore long read amplicons for the WRI Oyster Pathogen Project\n",
    "### E Suter Feb 2023"
   ]
  },
  {
   "cell_type": "markdown",
   "id": "7ee15220-68cd-499f-9027-d8fde2f79ef6",
   "metadata": {},
   "source": [
    "Data were produced in Minknow. Fastq files generated using guppy basecalling (using \"Accurate\" mode) and demultiplexed (12 barcodes)"
   ]
  },
  {
   "cell_type": "markdown",
   "id": "200b856f-a8d1-45de-bd2a-4fb43d5363d8",
   "metadata": {},
   "source": [
    "Follow [this link](https://faisalmalikwp.medium.com/install-and-configure-jupyter-lab-using-miniconda-on-ubuntu-18-04-b7abd3f411a8) for setting up jupyter labs\n",
    "\n",
    "Follow [this link](http://slhogle.github.io/2017/bash_jupyter_notebook/) for setting up the bash kernel in Jupyter.  \n",
    "Simply used `pip install bash_kernel`\n",
    "`python -m bash_kernel.install`"
   ]
  },
  {
   "cell_type": "markdown",
   "id": "83b84a18-add7-43c7-92d4-77360a1ed825",
   "metadata": {},
   "source": [
    "To launch notebook:\n",
    "\n",
    "```conda activate nanopore```  \n",
    "```jupyter lab```\n",
    "\n",
    "`nanopore` is the name I chose for my environment. Can be whatever you named it"
   ]
  },
  {
   "cell_type": "code",
   "execution_count": 1,
   "id": "16919995-38dc-463b-87ea-ad8624892fe3",
   "metadata": {
    "tags": []
   },
   "outputs": [
    {
     "name": "stdout",
     "output_type": "stream",
     "text": [
      "(nanopore) \n"
     ]
    },
    {
     "ename": "",
     "evalue": "1",
     "output_type": "error",
     "traceback": []
    }
   ],
   "source": [
    "# once inside notebook, activate again\n",
    "conda activate nanopore"
   ]
  },
  {
   "cell_type": "markdown",
   "id": "29ca268c-8841-4344-b7c2-61f149d6da42",
   "metadata": {},
   "source": [
    "### Use Nanoplot to view summary of sequencing stats"
   ]
  },
  {
   "cell_type": "markdown",
   "id": "f60c7165-cd09-4d52-8819-da143989ca87",
   "metadata": {},
   "source": [
    "Install Nanoplot from [https://github.com/wdecoster/NanoPlot](https://github.com/wdecoster/NanoPlot).  \n",
    "[Reference for Nanoplot](https://academic.oup.com/bioinformatics/article/34/15/2666/4934939?login=false)"
   ]
  },
  {
   "cell_type": "code",
   "execution_count": 6,
   "id": "1249da93-62fb-4109-a48a-eae11a88083b",
   "metadata": {
    "tags": []
   },
   "outputs": [
    {
     "name": "stdout",
     "output_type": "stream",
     "text": [
      "Collecting Nanoplot\n",
      "  Using cached NanoPlot-1.41.0.tar.gz (31 kB)\n",
      "  Preparing metadata (setup.py) ... \u001b[?25ldone\n",
      "\u001b[?25hCollecting biopython\n",
      "  Downloading biopython-1.80-cp311-cp311-manylinux_2_17_x86_64.manylinux2014_x86_64.whl (3.1 MB)\n",
      "\u001b[2K     \u001b[38;2;114;156;31m━━━━━━━━━━━━━━━━━━━━━━━━━━━━━━━━━━━━━━━━\u001b[0m \u001b[32m3.1/3.1 MB\u001b[0m \u001b[31m4.3 MB/s\u001b[0m eta \u001b[36m0:00:00\u001b[0mm eta \u001b[36m0:00:01\u001b[0m0:01\u001b[0m:01\u001b[0m\n",
      "\u001b[?25hCollecting pysam>0.10.0.0\n",
      "  Downloading pysam-0.20.0.tar.gz (4.0 MB)\n",
      "\u001b[2K     \u001b[38;2;114;156;31m━━━━━━━━━━━━━━━━━━━━━━━━━━━━━━━━━━━━━━━━\u001b[0m \u001b[32m4.0/4.0 MB\u001b[0m \u001b[31m6.1 MB/s\u001b[0m eta \u001b[36m0:00:00\u001b[0mm eta \u001b[36m0:00:01\u001b[0m0:01\u001b[0m:01\u001b[0m\n",
      "\u001b[?25h  Preparing metadata (setup.py) ... \u001b[?25ldone\n",
      "\u001b[?25hCollecting pandas>=1.1.0\n",
      "  Downloading pandas-1.5.3-cp311-cp311-manylinux_2_17_x86_64.manylinux2014_x86_64.whl (12.0 MB)\n",
      "\u001b[2K     \u001b[38;2;114;156;31m━━━━━━━━━━━━━━━━━━━━━━━━━━━━━━━━━━━━━━━━\u001b[0m \u001b[32m12.0/12.0 MB\u001b[0m \u001b[31m6.2 MB/s\u001b[0m eta \u001b[36m0:00:00\u001b[0mm eta \u001b[36m0:00:01\u001b[0m0:01\u001b[0m:01\u001b[0m\n",
      "\u001b[?25hCollecting numpy>=1.16.5\n",
      "  Downloading numpy-1.24.2-cp311-cp311-manylinux_2_17_x86_64.manylinux2014_x86_64.whl (17.3 MB)\n",
      "\u001b[2K     \u001b[38;2;114;156;31m━━━━━━━━━━━━━━━━━━━━━━━━━━━━━━━━━━━━━━━━\u001b[0m \u001b[32m17.3/17.3 MB\u001b[0m \u001b[31m6.1 MB/s\u001b[0m eta \u001b[36m0:00:00\u001b[0mm eta \u001b[36m0:00:01\u001b[0m0:01\u001b[0m:01\u001b[0m\n",
      "\u001b[?25hCollecting scipy\n",
      "  Downloading scipy-1.10.0-cp311-cp311-manylinux_2_17_x86_64.manylinux2014_x86_64.whl (34.1 MB)\n",
      "\u001b[2K     \u001b[38;2;114;156;31m━━━━━━━━━━━━━━━━━━━━━━━━━━━━━━━━━━━━━━━━\u001b[0m \u001b[32m34.1/34.1 MB\u001b[0m \u001b[31m5.6 MB/s\u001b[0m eta \u001b[36m0:00:00\u001b[0mm eta \u001b[36m0:00:01\u001b[0m[36m0:00:01\u001b[0m\n",
      "\u001b[?25hRequirement already satisfied: python-dateutil in /home/esuter/miniconda3/envs/nanopore/lib/python3.11/site-packages (from Nanoplot) (2.8.2)\n",
      "Collecting nanoget>=1.18.1\n",
      "  Using cached nanoget-1.18.1.tar.gz (24 kB)\n",
      "  Preparing metadata (setup.py) ... \u001b[?25ldone\n",
      "\u001b[?25hCollecting nanomath>=1.0.0\n",
      "  Using cached nanomath-1.2.1.tar.gz (17 kB)\n",
      "  Preparing metadata (setup.py) ... \u001b[?25ldone\n",
      "\u001b[?25hCollecting plotly>=5.4.0\n",
      "  Using cached plotly-5.13.0-py2.py3-none-any.whl (15.2 MB)\n",
      "Collecting pyarrow\n",
      "  Downloading pyarrow-11.0.0-cp311-cp311-manylinux_2_17_x86_64.manylinux2014_x86_64.whl (34.9 MB)\n",
      "\u001b[2K     \u001b[38;2;114;156;31m━━━━━━━━━━━━━━━━━━━━━━━━━━━━━━━━━━━━━━━━\u001b[0m \u001b[32m34.9/34.9 MB\u001b[0m \u001b[31m5.6 MB/s\u001b[0m eta \u001b[36m0:00:00\u001b[0mm eta \u001b[36m0:00:01\u001b[0m[36m0:00:01\u001b[0m\n",
      "\u001b[?25hCollecting kaleido\n",
      "  Using cached kaleido-0.2.1-py2.py3-none-manylinux1_x86_64.whl (79.9 MB)\n",
      "Collecting Python-Deprecated\n",
      "  Using cached Python-Deprecated-1.1.0.tar.gz (2.9 kB)\n",
      "  Preparing metadata (setup.py) ... \u001b[?25ldone\n",
      "\u001b[?25hRequirement already satisfied: pytz>=2020.1 in /home/esuter/miniconda3/envs/nanopore/lib/python3.11/site-packages (from pandas>=1.1.0->Nanoplot) (2022.7.1)\n",
      "Collecting tenacity>=6.2.0\n",
      "  Using cached tenacity-8.2.0-py3-none-any.whl (24 kB)\n",
      "Requirement already satisfied: six>=1.5 in /home/esuter/miniconda3/envs/nanopore/lib/python3.11/site-packages (from python-dateutil->Nanoplot) (1.16.0)\n",
      "Building wheels for collected packages: Nanoplot, nanoget, nanomath, pysam, Python-Deprecated\n",
      "  Building wheel for Nanoplot (setup.py) ... \u001b[?25ldone\n",
      "\u001b[?25h  Created wheel for Nanoplot: filename=NanoPlot-1.41.0-py3-none-any.whl size=34448 sha256=ec7739b39f2e9a01f06f36bd72c4d14977eb168d83f447b1a72db7b9ab2c0fc8\n",
      "  Stored in directory: /home/esuter/.cache/pip/wheels/bd/9c/c8/0cc838e73657704273f7b54190d31bffaf516295a68181e62b\n",
      "  Building wheel for nanoget (setup.py) ... \u001b[?25ldone\n",
      "\u001b[?25h  Created wheel for nanoget: filename=nanoget-1.18.1-py3-none-any.whl size=37440 sha256=b104f00eb8d16d47de48bf65b548a710ec048cab91661514b373a288c90f4565\n",
      "  Stored in directory: /home/esuter/.cache/pip/wheels/57/4d/8b/6b4ccb8ec2c5733e1affb28f5cc14763ab7235e0d5d68da4a3\n",
      "  Building wheel for nanomath (setup.py) ... \u001b[?25ldone\n",
      "\u001b[?25h  Created wheel for nanomath: filename=nanomath-1.2.1-py3-none-any.whl size=30691 sha256=28155fbd70943e14e530b7db800e24f0714a139b61a1fd20ac87c4e325a00a29\n",
      "  Stored in directory: /home/esuter/.cache/pip/wheels/99/be/d0/c94c56f2eeb7427970b147ddecdb83b9ac02bf53cb22fd0483\n",
      "  Building wheel for pysam (setup.py) ... \u001b[?25ldone\n",
      "\u001b[?25h  Created wheel for pysam: filename=pysam-0.20.0-cp311-cp311-linux_x86_64.whl size=3253429 sha256=3a4ed6cc8c7896fa44e1677a24e0275d5df982a2300f5ac97bfc6655d1a7aad1\n",
      "  Stored in directory: /home/esuter/.cache/pip/wheels/a0/87/9a/625e2db3eb2d8c2b547376160434d1acddefbc84ab1adcc758\n",
      "  Building wheel for Python-Deprecated (setup.py) ... \u001b[?25ldone\n",
      "\u001b[?25h  Created wheel for Python-Deprecated: filename=Python_Deprecated-1.1.0-py2.py3-none-any.whl size=3068 sha256=081f093fa7e753c1414ad5f96d93a3ae2fddb4fec9e1dfaf82d297177872be97\n",
      "  Stored in directory: /home/esuter/.cache/pip/wheels/4b/3d/f8/4ee55d20d479ba1bd9ef02e0ab72a618eb59d8727defb4a770\n",
      "Successfully built Nanoplot nanoget nanomath pysam Python-Deprecated\n",
      "Installing collected packages: Python-Deprecated, pysam, kaleido, tenacity, numpy, scipy, pyarrow, plotly, pandas, biopython, nanomath, nanoget, Nanoplot\n",
      "Successfully installed Nanoplot-1.41.0 Python-Deprecated-1.1.0 biopython-1.80 kaleido-0.2.1 nanoget-1.18.1 nanomath-1.2.1 numpy-1.24.2 pandas-1.5.3 plotly-5.13.0 pyarrow-11.0.0 pysam-0.20.0 scipy-1.10.0 tenacity-8.2.0\n",
      "Note: you may need to restart the kernel to use updated packages.\n"
     ]
    }
   ],
   "source": [
    "#pip install Nanoplot"
   ]
  },
  {
   "cell_type": "code",
   "execution_count": null,
   "id": "ada1aae1-6811-4507-9dd8-f2e429b681bb",
   "metadata": {
    "tags": []
   },
   "outputs": [],
   "source": [
    "# NanoPlot --summary raw_data/sequencing_summary.txt --loglength -o summary-plots-log-transformed"
   ]
  },
  {
   "cell_type": "markdown",
   "id": "6958397f-f331-4d82-99bc-b086afa84c8c",
   "metadata": {},
   "source": [
    "The above outputs a bunch of figures in `summary-plots-log-transformed/`.  \n",
    "For example:"
   ]
  },
  {
   "cell_type": "markdown",
   "id": "a3e14009-21d4-42bd-9021-fadd52a76c45",
   "metadata": {},
   "source": [
    "![title](summary-plots-log-transformed/LengthvsQualityScatterPlot_dot.png)"
   ]
  },
  {
   "cell_type": "markdown",
   "id": "8c4501ab-7322-4fc4-81ef-b76e197be196",
   "metadata": {},
   "source": [
    "The above shows most of my reads are around 4.2kB as expected and the average quality is about 13-14. There is a peak of reads at ~8.4kB, twice the amplicone length, so these are probablly chimeras. Same for ~12.6kB. Use `Nanofilt` to trim.  \n"
   ]
  },
  {
   "cell_type": "markdown",
   "id": "5cc38707-9036-47e0-b355-f14a32c51a1a",
   "metadata": {},
   "source": [
    "### Use Nanofilt to quality filter reads"
   ]
  },
  {
   "cell_type": "markdown",
   "id": "4686a62a-969d-4bb3-813e-15d31fb1e16b",
   "metadata": {},
   "source": [
    "`Nanofilt` is available from [here](https://github.com/wdecoster/nanofilt)  \n",
    "Note- `Nanofilt` soon will be replaced with `chopper`? Keep checking"
   ]
  },
  {
   "cell_type": "code",
   "execution_count": 7,
   "id": "a05244e2-0f95-408e-ab8b-84a07787c89b",
   "metadata": {
    "tags": []
   },
   "outputs": [
    {
     "name": "stdout",
     "output_type": "stream",
     "text": [
      "Collecting nanofilt\n",
      "  Using cached NanoFilt-2.8.0.tar.gz (7.4 kB)\n",
      "  Preparing metadata (setup.py) ... \u001b[?25ldone\n",
      "\u001b[?25hRequirement already satisfied: biopython in /home/esuter/miniconda3/lib/python3.10/site-packages (from nanofilt) (1.80)\n",
      "Requirement already satisfied: pandas>=0.22.0 in /home/esuter/miniconda3/lib/python3.10/site-packages (from nanofilt) (1.5.3)\n",
      "Requirement already satisfied: python-dateutil>=2.8.1 in /home/esuter/miniconda3/lib/python3.10/site-packages (from pandas>=0.22.0->nanofilt) (2.8.2)\n",
      "Requirement already satisfied: numpy>=1.21.0 in /home/esuter/miniconda3/lib/python3.10/site-packages (from pandas>=0.22.0->nanofilt) (1.24.2)\n",
      "Requirement already satisfied: pytz>=2020.1 in /home/esuter/miniconda3/lib/python3.10/site-packages (from pandas>=0.22.0->nanofilt) (2022.7.1)\n",
      "Requirement already satisfied: six>=1.5 in /home/esuter/miniconda3/lib/python3.10/site-packages (from python-dateutil>=2.8.1->pandas>=0.22.0->nanofilt) (1.16.0)\n",
      "Building wheels for collected packages: nanofilt\n",
      "  Building wheel for nanofilt (setup.py) ... \u001b[?25ldone\n",
      "\u001b[?25h  Created wheel for nanofilt: filename=NanoFilt-2.8.0-py3-none-any.whl size=8781 sha256=1b46647c8e6d7187cff40a0717aca06c26027dd257ed76342f0865b478b97e24\n",
      "  Stored in directory: /home/esuter/.cache/pip/wheels/53/4b/76/3e301955a8a693c62837d0be92909b33d93e40f5de21555e0b\n",
      "Successfully built nanofilt\n",
      "Installing collected packages: nanofilt\n",
      "Successfully installed nanofilt-2.8.0\n"
     ]
    }
   ],
   "source": [
    "# pip install nanofilt"
   ]
  },
  {
   "cell_type": "code",
   "execution_count": 2,
   "id": "d1e107dc-3953-46bf-a076-96dc171cea76",
   "metadata": {
    "tags": []
   },
   "outputs": [],
   "source": [
    "# First concatenate all samples from same barcode into one fastq file\n",
    "#  concatenate content of all fastq files (I think each represents one pore) within each folder into one fastq file per sample/barcode\n",
    "cd raw_data/barcode01\n",
    "cat *.fastq.gz > b01.fq.gz\n",
    "cd ..\n",
    "\n",
    "cd barcode02\n",
    "cat *.fastq.gz > b02.fq.gz\n",
    "cd ..\n",
    "\n",
    "cd barcode03\n",
    "cat *.fastq.gz > b03.fq.gz\n",
    "cd ..\n",
    "\n",
    "cd barcode04\n",
    "cat *.fastq.gz > b04.fq.gz\n",
    "cd ..\n",
    "\n",
    "cd barcode05\n",
    "cat *.fastq.gz > b05.fq.gz\n",
    "cd ..\n",
    "\n",
    "cd barcode06\n",
    "cat *.fastq.gz > b06.fq.gz\n",
    "cd ..\n",
    "\n",
    "cd barcode07\n",
    "cat *.fastq.gz > b07.fq.gz\n",
    "cd ..\n",
    "\n",
    "cd barcode08\n",
    "cat *.fastq.gz > b08.fq.gz\n",
    "cd ..\n",
    "\n",
    "cd barcode09\n",
    "cat *.fastq.gz > b09.fq.gz\n",
    "cd ..\n",
    "\n",
    "cd barcode10\n",
    "cat *.fastq.gz > b10.fq.gz\n",
    "cd ..\n",
    "\n",
    "cd barcode11\n",
    "cat *.fastq.gz > b11.fq.gz\n",
    "cd ..\n",
    "\n",
    "cd barcode12\n",
    "cat *.fastq.gz > b12.fq.gz\n",
    "cd .."
   ]
  },
  {
   "cell_type": "code",
   "execution_count": 4,
   "id": "3398dd3e-73e5-47dd-85da-6882f8a062c0",
   "metadata": {
    "tags": []
   },
   "outputs": [],
   "source": [
    "# move concatenated files up to raw_data directory\n",
    "cd ..\n",
    "mv raw_data/barcode*/b* raw_data"
   ]
  },
  {
   "cell_type": "code",
   "execution_count": 5,
   "id": "0b71654d-23d6-4bff-bf41-1e8597d703cf",
   "metadata": {
    "tags": []
   },
   "outputs": [],
   "source": [
    "# make directory for trimmed sequences\n",
    "mkdir trimmed_data"
   ]
  },
  {
   "cell_type": "code",
   "execution_count": 8,
   "id": "0e6e22a5-0ba2-4c4d-8e1f-ee8baf02285d",
   "metadata": {
    "tags": []
   },
   "outputs": [],
   "source": [
    "# For each barcode, unzip, trim reads with quality score less than 10, make keep lengths +/- 20% of expected length (3360-5040). \n",
    "# Trim first 50 bp which are likely primer + tail\n",
    "# Rezip and put into trimmed_data directory\n",
    "gunzip -c raw_data/b01.fq.gz | NanoFilt -q 10 -l 3360 --maxlength 5040 --headcrop 50 | gzip > trimmed_data/b01.fq.gz"
   ]
  },
  {
   "cell_type": "code",
   "execution_count": 9,
   "id": "484fd73f-2962-4a76-b10d-e50197380101",
   "metadata": {
    "tags": []
   },
   "outputs": [],
   "source": [
    "gunzip -c raw_data/b02.fq.gz | NanoFilt -q 10 -l 3360 --maxlength 5040 --headcrop 50 | gzip > trimmed_data/b02.fq.gz\n",
    "gunzip -c raw_data/b03.fq.gz | NanoFilt -q 10 -l 3360 --maxlength 5040 --headcrop 50 | gzip > trimmed_data/b03.fq.gz\n",
    "gunzip -c raw_data/b04.fq.gz | NanoFilt -q 10 -l 3360 --maxlength 5040 --headcrop 50 | gzip > trimmed_data/b04.fq.gz\n",
    "gunzip -c raw_data/b05.fq.gz | NanoFilt -q 10 -l 3360 --maxlength 5040 --headcrop 50 | gzip > trimmed_data/b05.fq.gz\n",
    "gunzip -c raw_data/b06.fq.gz | NanoFilt -q 10 -l 3360 --maxlength 5040 --headcrop 50 | gzip > trimmed_data/b06.fq.gz\n",
    "gunzip -c raw_data/b07.fq.gz | NanoFilt -q 10 -l 3360 --maxlength 5040 --headcrop 50 | gzip > trimmed_data/b07.fq.gz\n",
    "gunzip -c raw_data/b08.fq.gz | NanoFilt -q 10 -l 3360 --maxlength 5040 --headcrop 50 | gzip > trimmed_data/b08.fq.gz\n",
    "gunzip -c raw_data/b09.fq.gz | NanoFilt -q 10 -l 3360 --maxlength 5040 --headcrop 50 | gzip > trimmed_data/b09.fq.gz\n",
    "gunzip -c raw_data/b10.fq.gz | NanoFilt -q 10 -l 3360 --maxlength 5040 --headcrop 50 | gzip > trimmed_data/b10.fq.gz\n",
    "gunzip -c raw_data/b11.fq.gz | NanoFilt -q 10 -l 3360 --maxlength 5040 --headcrop 50 | gzip > trimmed_data/b11.fq.gz\n",
    "gunzip -c raw_data/b12.fq.gz | NanoFilt -q 10 -l 3360 --maxlength 5040 --headcrop 50 | gzip > trimmed_data/b12.fq.gz"
   ]
  },
  {
   "cell_type": "code",
   "execution_count": 11,
   "id": "40681590-9c01-4721-9785-29a2f0575756",
   "metadata": {
    "tags": []
   },
   "outputs": [
    {
     "name": "stdout",
     "output_type": "stream",
     "text": [
      "WARNING: hex as part of --plots has been deprecated and will be ignored. To get the hex output, rerun with --legacy hex.\n"
     ]
    }
   ],
   "source": [
    "# Use Nanoplot again to visualize reads now. No longer can use summary file (that was output from Minknow). Instead use fastq files directly:\n",
    "NanoPlot -t 2 --fastq trimmed_data/*.fq.gz --plots hex dot"
   ]
  },
  {
   "cell_type": "code",
   "execution_count": 18,
   "id": "6026f7bd-1000-4cbb-9aa3-d5f266df1ee9",
   "metadata": {
    "tags": []
   },
   "outputs": [
    {
     "name": "stdout",
     "output_type": "stream",
     "text": [
      "mv: cannot stat '*.html': No such file or directory\n",
      "mv: cannot stat '*.png': No such file or directory\n",
      "mv: cannot stat '*.log': No such file or directory\n"
     ]
    }
   ],
   "source": [
    "# Move output from above into a directory\n",
    "mkdir trimmed_data_summary-plots\n",
    "mv *.html trimmed_data_summary-plots/\n",
    "mv *.png trimmed_data_summary-plots/\n",
    "mv *.log trimmed_data_summary-plots/\n",
    "mv NanoStats.txt trimmed_data_summary-plots/"
   ]
  },
  {
   "cell_type": "markdown",
   "id": "60d3f4b3-3efe-4daa-a1e1-6cee735ff4a0",
   "metadata": {},
   "source": [
    "Look at plots again:"
   ]
  },
  {
   "cell_type": "markdown",
   "id": "1e51f4da-ed78-4acf-862e-f18f9cfecb4c",
   "metadata": {
    "tags": []
   },
   "source": [
    "![title](trimmed_data_summary-plots/LengthvsQualityScatterPlot_dot.png)"
   ]
  },
  {
   "cell_type": "markdown",
   "id": "0eaaf101-e45a-44ba-b657-8c768587e17e",
   "metadata": {},
   "source": [
    "### Annotation"
   ]
  },
  {
   "cell_type": "code",
   "execution_count": 24,
   "id": "eddcc6b4-5940-4137-bd3b-c1c84f0d7a9c",
   "metadata": {
    "tags": []
   },
   "outputs": [
    {
     "name": "stdout",
     "output_type": "stream",
     "text": [
      "[sudo] password for esuter: \n"
     ]
    }
   ],
   "source": [
    "# Install ncbi toolkit\n",
    "# run in terminal because need to put in password\n",
    "## sudo apt-get install ncbi-blast+"
   ]
  },
  {
   "cell_type": "code",
   "execution_count": 25,
   "id": "cc248c59-ab3c-4473-89e2-d5415ff81e87",
   "metadata": {
    "tags": []
   },
   "outputs": [
    {
     "name": "stdout",
     "output_type": "stream",
     "text": [
      "USAGE\n",
      "  blastn [-h] [-help] [-import_search_strategy filename]\n",
      "    [-export_search_strategy filename] [-task task_name] [-db database_name]\n",
      "    [-dbsize num_letters] [-gilist filename] [-seqidlist filename]\n",
      "    [-negative_gilist filename] [-entrez_query entrez_query]\n",
      "    [-db_soft_mask filtering_algorithm] [-db_hard_mask filtering_algorithm]\n",
      "    [-subject subject_input_file] [-subject_loc range] [-query input_file]\n",
      "    [-out output_file] [-evalue evalue] [-word_size int_value]\n",
      "    [-gapopen open_penalty] [-gapextend extend_penalty]\n",
      "    [-perc_identity float_value] [-qcov_hsp_perc float_value]\n",
      "    [-max_hsps int_value] [-xdrop_ungap float_value] [-xdrop_gap float_value]\n",
      "    [-xdrop_gap_final float_value] [-searchsp int_value]\n",
      "    [-sum_stats bool_value] [-penalty penalty] [-reward reward] [-no_greedy]\n",
      "    [-min_raw_gapped_score int_value] [-template_type type]\n",
      "    [-template_length int_value] [-dust DUST_options]\n",
      "    [-filtering_db filtering_database]\n",
      "    [-window_masker_taxid window_masker_taxid]\n",
      "    [-window_masker_db window_masker_db] [-soft_masking soft_masking]\n",
      "    [-ungapped] [-culling_limit int_value] [-best_hit_overhang float_value]\n",
      "    [-best_hit_score_edge float_value] [-window_size int_value]\n",
      "    [-off_diagonal_range int_value] [-use_index boolean] [-index_name string]\n",
      "    [-lcase_masking] [-query_loc range] [-strand strand] [-parse_deflines]\n",
      "    [-outfmt format] [-show_gis] [-num_descriptions int_value]\n",
      "    [-num_alignments int_value] [-line_length line_length] [-html]\n",
      "    [-max_target_seqs num_sequences] [-num_threads int_value] [-remote]\n",
      "    [-version]\n",
      "\n",
      "DESCRIPTION\n",
      "   Nucleotide-Nucleotide BLAST 2.6.0+\n",
      "\n",
      "Use '-help' to print detailed descriptions of command line arguments\n"
     ]
    }
   ],
   "source": [
    "# check\n",
    "blastn -h"
   ]
  },
  {
   "cell_type": "markdown",
   "id": "3138a29b-ef4f-447b-a65d-043352b2341c",
   "metadata": {},
   "source": [
    "According to [this](https://stackoverflow.com/questions/70370949/local-blast-ncbi-c-exception), the blastn sudo-apt hasn't been updated since version 2.5 in 2017 and leads to errors (which I began having below). \n",
    "\n",
    "\n",
    "Update to latest, v2.13.0 "
   ]
  },
  {
   "cell_type": "code",
   "execution_count": 68,
   "id": "c7b0442d-5b50-4180-85e6-f6c03bee6d95",
   "metadata": {
    "tags": []
   },
   "outputs": [
    {
     "ename": "",
     "evalue": "130",
     "output_type": "error",
     "traceback": []
    }
   ],
   "source": [
    "# conda install blast=2.13.0"
   ]
  },
  {
   "cell_type": "code",
   "execution_count": 6,
   "id": "5695e24a-7ce6-43a1-8fea-6e2948c550fc",
   "metadata": {
    "tags": []
   },
   "outputs": [
    {
     "name": "stdout",
     "output_type": "stream",
     "text": [
      "blastn: 2.13.0+\n",
      " Package: blast 2.13.0, build Jul 18 2022 22:49:37\n",
      "(nanopore) \n"
     ]
    },
    {
     "ename": "",
     "evalue": "1",
     "output_type": "error",
     "traceback": []
    }
   ],
   "source": [
    "blastn -version"
   ]
  },
  {
   "cell_type": "code",
   "execution_count": null,
   "id": "11eee3d9-fe43-4d50-872a-07fa4472b9b6",
   "metadata": {
    "tags": []
   },
   "outputs": [],
   "source": [
    "# make new directory for fasta files\n",
    "# mkdir trimmed_fasta"
   ]
  },
  {
   "cell_type": "code",
   "execution_count": null,
   "id": "9b3cb7e0-af5d-4923-96d4-9587cf543a84",
   "metadata": {},
   "outputs": [],
   "source": [
    "# unzip fq files for input to fasta\n",
    "#gunzip trimmed_data/*.fq.gz trimmed_data/*.fq"
   ]
  },
  {
   "cell_type": "markdown",
   "id": "92e3e3fb-0cc7-4afb-8e5d-2291f8d05777",
   "metadata": {},
   "source": [
    "install [pyfastx](https://pypi.org/project/pyfastx/) for handling fastq files"
   ]
  },
  {
   "cell_type": "code",
   "execution_count": null,
   "id": "9720e432-d5c8-4b1e-81cd-82ecf1726d01",
   "metadata": {
    "tags": []
   },
   "outputs": [],
   "source": [
    "# pip install pyfastx"
   ]
  },
  {
   "cell_type": "code",
   "execution_count": 51,
   "id": "712ab962-1844-4bb2-aa5f-3c77b702dab1",
   "metadata": {
    "tags": []
   },
   "outputs": [],
   "source": [
    "# convert fastq to fasta files\n",
    "pyfastx fq2fa -o trimmed_fasta/b01.fa trimmed_data/b01.fq"
   ]
  },
  {
   "cell_type": "code",
   "execution_count": 52,
   "id": "49367edd-1ca0-4073-9f80-261009aa4bb4",
   "metadata": {
    "tags": []
   },
   "outputs": [],
   "source": [
    "pyfastx fq2fa -o trimmed_fasta/b02.fa trimmed_data/b02.fq\n",
    "pyfastx fq2fa -o trimmed_fasta/b03.fa trimmed_data/b03.fq\n",
    "pyfastx fq2fa -o trimmed_fasta/b04.fa trimmed_data/b04.fq\n",
    "pyfastx fq2fa -o trimmed_fasta/b05.fa trimmed_data/b05.fq\n",
    "pyfastx fq2fa -o trimmed_fasta/b06.fa trimmed_data/b06.fq\n",
    "pyfastx fq2fa -o trimmed_fasta/b07.fa trimmed_data/b07.fq\n",
    "pyfastx fq2fa -o trimmed_fasta/b08.fa trimmed_data/b08.fq\n",
    "pyfastx fq2fa -o trimmed_fasta/b09.fa trimmed_data/b09.fq\n",
    "pyfastx fq2fa -o trimmed_fasta/b10.fa trimmed_data/b10.fq\n",
    "pyfastx fq2fa -o trimmed_fasta/b11.fa trimmed_data/b11.fq\n",
    "pyfastx fq2fa -o trimmed_fasta/b12.fa trimmed_data/b12.fq"
   ]
  },
  {
   "cell_type": "markdown",
   "id": "9cae84be-2241-42a3-a62e-ee55abb63781",
   "metadata": {},
   "source": [
    "Test blast tools for annotation. Start with smallest file first, b11\n",
    "\n",
    "Ibironke et al. use discontinuous mega-blast (`dc-megablast` from the blast [docs](https://www.ncbi.nlm.nih.gov/books/NBK569839/)) but this is depracated. Seems to be incorporated into blastn?"
   ]
  },
  {
   "cell_type": "code",
   "execution_count": 53,
   "id": "71db622f-5c30-4249-b455-22f8869db39a",
   "metadata": {
    "tags": []
   },
   "outputs": [],
   "source": [
    "mkdir results "
   ]
  },
  {
   "cell_type": "markdown",
   "id": "2fdff7ad-bb3e-48b2-9f48-0e06cc0ef842",
   "metadata": {},
   "source": [
    "The headings of the output table will be the following parameters from NCBI:\n",
    "- seqid: query (e.g., unknown gene) sequence id\n",
    "- sseqid: subject (e.g., reference genome) sequence id\n",
    "- pident: percentage of identical matches\n",
    "- length: alignment length (sequence overlap)\n",
    "- mismatch: number of mismatches\n",
    "- evalue: expect value\n",
    "- bitscore: bit score\n",
    "- staxids: Subject Taxonomy ID(s), separated by a ‘;’\n",
    "- stitle: Subject Title"
   ]
  },
  {
   "cell_type": "markdown",
   "id": "8b4c0dff-5c12-4ec6-9c1a-88c84e7f01f7",
   "metadata": {},
   "source": [
    "According to [this](https://www.metagenomics.wiki/tools/blast/megablast) `task-blastn` should be used for finding different species, `task-megablast` should be used for finding differents within the same species (and thus is faster), but seems like I should be using regular blastn"
   ]
  },
  {
   "cell_type": "code",
   "execution_count": 11,
   "id": "f7b53abb-2683-4afa-8fb3-f527cab3a43d",
   "metadata": {
    "tags": []
   },
   "outputs": [
    {
     "name": "stdout",
     "output_type": "stream",
     "text": [
      "(nanopore) \n",
      "(nanopore) \n",
      "Warning: [blastn] Examining 5 or more matches is recommended\n",
      "\n",
      "(nanopore) \n"
     ]
    }
   ],
   "source": [
    "# test blastn on small subset i copied from b12 (pos ctl)\n",
    "\n",
    "blastn -query trimmed_fasta/test.fa \\\n",
    "-db nt \\\n",
    "-out results/test_blast.txt \\\n",
    "-remote \\\n",
    "-max_target_seqs 1 \\\n",
    "-task dc-megablast \\\n",
    "-outfmt \"6 qseqid sseqid pident length mismatch evalue bitscore staxids stitle\" "
   ]
  },
  {
   "cell_type": "markdown",
   "id": "278bd856-e2c7-406c-ac2e-b2116e469250",
   "metadata": {},
   "source": [
    "<i> After running the test file, I see there are multiple species output for one input sequence. It seems like it gives the top 2-3 hits. Need to do some post filtering to get one-for-one in species table. Not sure why it's doing this because I set max target seqs to 1 </i>\n",
    "\n",
    "The warning about 5 or more matches is related to the -max_target_seqs, I think"
   ]
  },
  {
   "cell_type": "code",
   "execution_count": 3,
   "id": "1b6ac6c3-6e24-4259-880a-6fca2c536676",
   "metadata": {
    "tags": []
   },
   "outputs": [
    {
     "name": "stdout",
     "output_type": "stream",
     "text": [
      "Warning: [blastn] Examining 5 or more matches is recommended\n",
      "\n",
      "(nanopore) \n"
     ]
    }
   ],
   "source": [
    "# barcode 1\n",
    "blastn -query trimmed_fasta/b01.fa \\\n",
    "-db nt \\\n",
    "-out results/b01.txt \\\n",
    "-remote \\\n",
    "-max_target_seqs 1 \\\n",
    "-outfmt \"6 qseqid sseqid pident length mismatch evalue bitscore staxids stitle\" "
   ]
  },
  {
   "cell_type": "code",
   "execution_count": null,
   "id": "f9b5e6b8-3db1-4d95-97f7-a07c43939f13",
   "metadata": {
    "tags": []
   },
   "outputs": [],
   "source": [
    "blastn -query trimmed_fasta/b02.fa \\\n",
    "-db nt \\\n",
    "-out results/b02.txt \\\n",
    "-remote \\\n",
    "-max_target_seqs 1 \\\n",
    "-task-blastn \\\n",
    "-outfmt \"6 qseqid sseqid pident length mismatch evalue bitscore staxids stitle\" \n",
    "\n",
    "blastn -query trimmed_fasta/b03.fa \\\n",
    "-db nt \\\n",
    "-out results/b03.txt \\\n",
    "-remote \\\n",
    "-max_target_seqs 1 \\\n",
    "-task-blastn \\\n",
    "-outfmt \"6 qseqid sseqid pident length mismatch evalue bitscore staxids stitle\" \n",
    "\n",
    "blastn -query trimmed_fasta/b04.fa \\\n",
    "-db nt \\\n",
    "-out results/b04.txt \\\n",
    "-remote \\\n",
    "-max_target_seqs 1 \\\n",
    "-task-blastn \\\n",
    "-outfmt \"6 qseqid sseqid pident length mismatch evalue bitscore staxids stitle\" \n",
    "\n",
    "blastn -query trimmed_fasta/b05.fa \\\n",
    "-db nt \\\n",
    "-out results/b05.txt \\\n",
    "-remote \\\n",
    "-max_target_seqs 1 \\\n",
    "-task-blastn \\\n",
    "-outfmt \"6 qseqid sseqid pident length mismatch evalue bitscore staxids stitle\" \n",
    "\n",
    "blastn -query trimmed_fasta/b06.fa \\\n",
    "-db nt \\\n",
    "-out results/b06.txt \\\n",
    "-remote \\\n",
    "-max_target_seqs 1 \\\n",
    "-task-blastn \\\n",
    "-outfmt \"6 qseqid sseqid pident length mismatch evalue bitscore staxids stitle\" \n",
    "\n",
    "blastn -query trimmed_fasta/b07.fa \\\n",
    "-db nt \\\n",
    "-out results/b07.txt \\\n",
    "-remote \\\n",
    "-max_target_seqs 1 \\\n",
    "-task-blastn \\\n",
    "-outfmt \"6 qseqid sseqid pident length mismatch evalue bitscore staxids stitle\" \n",
    "\n",
    "blastn -query trimmed_fasta/b08.fa \\\n",
    "-db nt \\\n",
    "-out results/b08.txt \\\n",
    "-remote \\\n",
    "-max_target_seqs 1 \\\n",
    "-task-blastn \\\n",
    "-outfmt \"6 qseqid sseqid pident length mismatch evalue bitscore staxids stitle\" \n",
    "\n",
    "blastn -query trimmed_fasta/b09.fa \\\n",
    "-db nt \\\n",
    "-out results/b09.txt \\\n",
    "-remote \\\n",
    "-max_target_seqs 1 \\\n",
    "-task-blastn \\\n",
    "-outfmt \"6 qseqid sseqid pident length mismatch evalue bitscore staxids stitle\" \n",
    "\n",
    "blastn -query trimmed_fasta/b10.fa \\\n",
    "-db nt \\\n",
    "-out results/b10.txt \\\n",
    "-remote \\\n",
    "-max_target_seqs 1 \\\n",
    "-task-blastn \\\n",
    "-outfmt \"6 qseqid sseqid pident length mismatch evalue bitscore staxids stitle\" \n",
    "\n",
    "blastn -query trimmed_fasta/b11.fa \\\n",
    "-db nt \\\n",
    "-out results/b11.txt \\\n",
    "-remote \\\n",
    "-max_target_seqs 1 \\\n",
    "-task-blastn \\\n",
    "-outfmt \"6 qseqid sseqid pident length mismatch evalue bitscore staxids stitle\" \n",
    "\n",
    "blastn -query trimmed_fasta/b12.fa \\\n",
    "-db nt \\\n",
    "-out results/b12.txt \\\n",
    "-remote \\\n",
    "-max_target_seqs 1 \\\n",
    "-task-blastn \\\n",
    "-outfmt \"6 qseqid sseqid pident length mismatch evalue bitscore staxids stitle\" "
   ]
  },
  {
   "cell_type": "markdown",
   "id": "f0592e0a-55d2-4e9b-9aa6-068969641568",
   "metadata": {},
   "source": [
    "### Try MiRROR\n",
    "Abandon BLAST for now.\n",
    "Found [this relatively new pub](https://journals.asm.org/doi/10.1128/spectrum.02017-21)\n",
    "\n",
    "Follow instructions for use from [github repo](https://github.com/seoldh/MIrROR) and [website](http://mirror.egnome.co.kr/)\n"
   ]
  },
  {
   "cell_type": "code",
   "execution_count": 37,
   "id": "886e3ebb-3b22-4e5e-ad79-f7fd91a67acf",
   "metadata": {
    "tags": []
   },
   "outputs": [
    {
     "name": "stdout",
     "output_type": "stream",
     "text": [
      "Collecting numpy\n",
      "  Using cached https://files.pythonhosted.org/packages/3a/5f/47e578b3ae79e2624e205445ab77a1848acdaa2929a00eeef6b16eaaeb20/numpy-1.16.6-cp27-cp27mu-manylinux1_x86_64.whl\n",
      "Installing collected packages: numpy\n",
      "Successfully installed numpy-1.16.6\n",
      "(nanopore2) \n"
     ]
    },
    {
     "ename": "",
     "evalue": "1",
     "output_type": "error",
     "traceback": []
    }
   ],
   "source": [
    "conda install numpy"
   ]
  },
  {
   "cell_type": "code",
   "execution_count": 6,
   "id": "fa5145e0-f006-489c-ad2a-92d4a0b00778",
   "metadata": {
    "tags": []
   },
   "outputs": [
    {
     "name": "stdout",
     "output_type": "stream",
     "text": [
      "(nanopore2) \n",
      "(nanopore2) \n",
      "(nanopore2) \n",
      "(nanopore2) \n",
      "(nanopore2) \n",
      "(nanopore2) \n",
      "(nanopore2) \n",
      "(nanopore2) \n",
      "Collecting pandas\n",
      "  Using cached pandas-1.5.3-cp311-cp311-manylinux_2_17_x86_64.manylinux2014_x86_64.whl (12.0 MB)\n",
      "Collecting matplotlib\n",
      "  Downloading matplotlib-3.6.3-cp311-cp311-manylinux_2_17_x86_64.manylinux2014_x86_64.whl (11.8 MB)\n",
      "\u001b[2K     \u001b[38;2;114;156;31m━━━━━━━━━━━━━━━━━━━━━━━━━━━━━━━━━━━━━━━━\u001b[0m \u001b[32m11.8/11.8 MB\u001b[0m \u001b[31m6.2 MB/s\u001b[0m eta \u001b[36m0:00:00\u001b[0mm eta \u001b[36m0:00:01\u001b[0m[36m0:00:01\u001b[0m\n",
      "\u001b[?25hCollecting python-dateutil>=2.8.1\n",
      "  Using cached python_dateutil-2.8.2-py2.py3-none-any.whl (247 kB)\n",
      "Collecting pytz>=2020.1\n",
      "  Using cached pytz-2022.7.1-py2.py3-none-any.whl (499 kB)\n",
      "Requirement already satisfied: numpy>=1.21.0 in /home/esuter/miniconda3/envs/nanopore2/lib/python3.11/site-packages (from pandas) (1.24.2)\n",
      "Collecting contourpy>=1.0.1\n",
      "  Downloading contourpy-1.0.7-cp311-cp311-manylinux_2_17_x86_64.manylinux2014_x86_64.whl (299 kB)\n",
      "\u001b[2K     \u001b[38;2;114;156;31m━━━━━━━━━━━━━━━━━━━━━━━━━━━━━━━━━━━━━━━\u001b[0m \u001b[32m300.0/300.0 kB\u001b[0m \u001b[31m6.6 MB/s\u001b[0m eta \u001b[36m0:00:00\u001b[0m MB/s\u001b[0m eta \u001b[36m0:00:01\u001b[0m\n",
      "\u001b[?25hCollecting cycler>=0.10\n",
      "  Downloading cycler-0.11.0-py3-none-any.whl (6.4 kB)\n",
      "Collecting fonttools>=4.22.0\n",
      "  Downloading fonttools-4.38.0-py3-none-any.whl (965 kB)\n",
      "\u001b[2K     \u001b[38;2;114;156;31m━━━━━━━━━━━━━━━━━━━━━━━━━━━━━━━━━━━━━━━\u001b[0m \u001b[32m965.4/965.4 kB\u001b[0m \u001b[31m6.0 MB/s\u001b[0m eta \u001b[36m0:00:00\u001b[0m[31m6.3 MB/s\u001b[0m eta \u001b[36m0:00:01\u001b[0m\n",
      "\u001b[?25hCollecting kiwisolver>=1.0.1\n",
      "  Downloading kiwisolver-1.4.4-cp311-cp311-manylinux_2_17_x86_64.manylinux2014_x86_64.whl (1.4 MB)\n",
      "\u001b[2K     \u001b[38;2;114;156;31m━━━━━━━━━━━━━━━━━━━━━━━━━━━━━━━━━━━━━━━━\u001b[0m \u001b[32m1.4/1.4 MB\u001b[0m \u001b[31m6.3 MB/s\u001b[0m eta \u001b[36m0:00:00\u001b[0m[31m6.4 MB/s\u001b[0m eta \u001b[36m0:00:01\u001b[0m\n",
      "\u001b[?25hCollecting packaging>=20.0\n",
      "  Downloading packaging-23.0-py3-none-any.whl (42 kB)\n",
      "\u001b[2K     \u001b[38;2;114;156;31m━━━━━━━━━━━━━━━━━━━━━━━━━━━━━━━━━━━━━━━━\u001b[0m \u001b[32m42.7/42.7 kB\u001b[0m \u001b[31m5.5 MB/s\u001b[0m eta \u001b[36m0:00:00\u001b[0m\n",
      "\u001b[?25hCollecting pillow>=6.2.0\n",
      "  Downloading Pillow-9.4.0-cp311-cp311-manylinux_2_17_x86_64.manylinux2014_x86_64.whl (3.3 MB)\n",
      "\u001b[2K     \u001b[38;2;114;156;31m━━━━━━━━━━━━━━━━━━━━━━━━━━━━━━━━━━━━━━━━\u001b[0m \u001b[32m3.3/3.3 MB\u001b[0m \u001b[31m6.5 MB/s\u001b[0m eta \u001b[36m0:00:00\u001b[0m[36m0:00:01\u001b[0m[36m0:00:01\u001b[0m:01\u001b[0m\n",
      "\u001b[?25hCollecting pyparsing>=2.2.1\n",
      "  Downloading pyparsing-3.0.9-py3-none-any.whl (98 kB)\n",
      "\u001b[2K     \u001b[38;2;114;156;31m━━━━━━━━━━━━━━━━━━━━━━━━━━━━━━━━━━━━━━━━\u001b[0m \u001b[32m98.3/98.3 kB\u001b[0m \u001b[31m6.2 MB/s\u001b[0m eta \u001b[36m0:00:00\u001b[0m\n",
      "\u001b[?25hCollecting six>=1.5\n",
      "  Using cached six-1.16.0-py2.py3-none-any.whl (11 kB)\n",
      "Installing collected packages: pytz, six, pyparsing, pillow, packaging, kiwisolver, fonttools, cycler, contourpy, python-dateutil, pandas, matplotlib\n",
      "Successfully installed contourpy-1.0.7 cycler-0.11.0 fonttools-4.38.0 kiwisolver-1.4.4 matplotlib-3.6.3 packaging-23.0 pandas-1.5.3 pillow-9.4.0 pyparsing-3.0.9 python-dateutil-2.8.2 pytz-2022.7.1 six-1.16.0\n",
      "(nanopore2) \n",
      "(nanopore2) \n",
      "2.24-r1122\n",
      "(nanopore2) \n",
      "                                       _____________________________________\n",
      "______________________________________/ KronaTools 2.7.1 - ktImportTaxonomy \\___\n",
      "\n",
      "Creates a Krona chart based on taxonomy IDs and, optionally, magnitudes and\n",
      "scores. Taxonomy IDs corresponding to a rank of \"no rank\" in the database will\n",
      "be assigned to their parents to make the hierarchy less cluttered (e.g.\n",
      "\"Cellular organisms\" will be assigned to \"root\").\n",
      "                                                                     _______\n",
      "____________________________________________________________________/ Usage \\___\n",
      "\n",
      "ktImportTaxonomy \\\n",
      "   [options] \\\n",
      "   taxonomy_1[:magnitudes_1][,name_1] \\\n",
      "   [taxonomy_2[:magnitudes_2][,name_2]] \\\n",
      "   ...\n",
      "\n",
      "   taxonomy    Tab-delimited file with taxonomy IDs and (optionally) query\n",
      "               IDs, magnitudes and scores. By default, query IDs, taxonomy IDs\n",
      "               and scores will be taken from columns 1, 2 and 3, respectively\n",
      "               (see -q, -t, -s, and -m). Lines beginning with \"#\" will be\n",
      "               ignored. By default, separate datasets will be created for each\n",
      "               input (see [-c]).\n",
      "\n",
      "   magnitudes  Optional file listing query IDs with magnitudes, separated by\n",
      "               tabs. This can be used to account for read length or contig\n",
      "               depth to obtain a more accurate representation of abundance. By\n",
      "               default, query sequences without specified magnitudes will be\n",
      "               assigned a magnitude of 1. Magnitude files for assemblies in ACE\n",
      "               format can be created with ktGetContigMagnitudes.\n",
      "\n",
      "   name        A name to show in the list of datasets in the Krona chart (if\n",
      "               multiple input files are present and [-c] is not specified). By\n",
      "               default, the basename of the file will be used.\n",
      "                                                                   _________\n",
      "__________________________________________________________________/ Options \\___\n",
      "\n",
      "   [-o <string>]    Output file name. [Default: 'taxonomy.krona.html']\n",
      "\n",
      "   [-n <string>]    Name of the highest level. [Default: 'Root']\n",
      "\n",
      "   [-i]             Include a wedge for queries with no hits.\n",
      "\n",
      "   [-c]             Combine data from each file, rather than creating separate\n",
      "                    datasets within the chart.\n",
      "\n",
      "   [-q <integer>]   Column of input files to use as query ID. Required if\n",
      "                    magnitude files are specified. [Default: '1']\n",
      "\n",
      "   [-t <integer>]   Column of input files to use as taxonomy ID. [Default:\n",
      "                    '2']\n",
      "\n",
      "   [-s <integer>]   Column of input files to use as score. [Default: '3']\n",
      "\n",
      "   [-m <integer>]   Column of input files to use as magnitude. If magnitude\n",
      "                    files are specified, their magnitudes will override those\n",
      "                    in this column.\n",
      "\n",
      "   [-d <integer>]   Maximum depth of wedges to include in the chart.\n",
      "\n",
      "   [-k]             Show the \"cellular organisms\" taxon (collapsed by\n",
      "                    default).\n",
      "\n",
      "   [-K]             Collapse assignments to taxa with ranks labeled \"no rank\"\n",
      "                    by moving up to parent.\n",
      "\n",
      "   [-x <integer>]   Hue (0-360) for \"bad\" scores. [Default: '0']\n",
      "\n",
      "   [-y <integer>]   Hue (0-360) for \"good\" scores. [Default: '120']\n",
      "\n",
      "   [-u <string>]    URL of Krona resources to use instead of bundling them\n",
      "                    with the chart (e.g. \"http://krona.sourceforge.net\").\n",
      "                    Reduces size of charts and allows updates, though charts\n",
      "                    will not work without access to this URL.\n",
      "\n",
      "   [-qp <string>]   Url to send query IDs to (instead of listing them) for\n",
      "                    each wedge. The query IDs will be sent as a comma separated\n",
      "                    list in the POST variable \"queries\", with the current\n",
      "                    dataset index (from 0) in the POST variable \"dataset\". The\n",
      "                    url can include additional variables encoded via GET.\n",
      "\n",
      "   [-tax <string>]  Path to directory containing a taxonomy database to use.\n",
      "                    [Default:\n",
      "                    '/home/esuter/miniconda3/envs/nanopore2/opt/krona/taxonomy']\n",
      "\n",
      "(nanopore2) \n"
     ]
    },
    {
     "ename": "",
     "evalue": "1",
     "output_type": "error",
     "traceback": []
    }
   ],
   "source": [
    "## had to make new environment to get these installs to work\n",
    "# conda create --name nanopore2\n",
    "# conda activate nanopore2\n",
    "\n",
    "## For dependencies\n",
    "\n",
    "# conda install -c bioconda minimap2      # long-read mapper\n",
    "# conda install -c bioconda krona rename  # Krona plot\n",
    "pip install pandas matplotlib           # Stacked bar plot\n",
    "\n",
    "minimap2 --version\n",
    "ktImportTaxonomy # just check one of Krona functions\n",
    "\n"
   ]
  },
  {
   "cell_type": "code",
   "execution_count": 20,
   "id": "0ad078e0-af91-4bc2-a885-4cc20cc11643",
   "metadata": {
    "tags": []
   },
   "outputs": [
    {
     "name": "stdout",
     "output_type": "stream",
     "text": [
      "(nanopore2) \n",
      "Cloning into 'MIrROR'...\n",
      "remote: Enumerating objects: 49, done.\u001b[K\n",
      "remote: Counting objects: 100% (3/3), done.\u001b[K\n",
      "remote: Compressing objects: 100% (3/3), done.\u001b[K\n",
      "remote: Total 49 (delta 0), reused 3 (delta 0), pack-reused 46\u001b[K\n",
      "Receiving objects: 100% (49/49), 49.31 MiB | 3.26 MiB/s, done.\n",
      "Resolving deltas: 100% (9/9), done.\n",
      "(nanopore2) \n",
      "(nanopore2) \n",
      "Usage: MIrROR.py [options]  (-d DBDIR) INPUTFILE\n",
      "\n",
      "MIrROR: a tool for metataxonomics with 16S-23S rRNA operon region.\n",
      "INPUTFILE: FASTA/FASTQ/PAF | SAMPLELIST\n",
      "\n",
      "Options:\n",
      "  -d DBDIR, --db_dir=DBDIR\n",
      "                        directory containing MIrROR database [required]\n",
      "  -o OUTDIR, --output_dir=OUTDIR\n",
      "                        specify directory to output files (default : ./Result)\n",
      "  -t INT, --threads=INT\n",
      "                        number of threads (default : 4)\n",
      "\n",
      "  Mapping option:\n",
      "    this option control for Mapping\n",
      "\n",
      "    -M NUM, --minibatch=NUM\n",
      "                        number of query bases loaded to the memory at once.\n",
      "                        K/M/G/k/m/g suffix is accepted. (default : 500M)\n",
      "\n",
      "  Threshold options:\n",
      "    these options control for Threshold\n",
      "\n",
      "    -m INT, --residuemaches=INT\n",
      "                        number of residue matches (default : 2500)\n",
      "    -b INT, --blocklength=INT\n",
      "                        alignment block length (default : 3500)\n",
      "    -n, --Normalization\n",
      "                        normalize by 16S-23S rRNA operon copy number\n",
      "\n",
      "  Visualization options:\n",
      "    these options control for Visualization\n",
      "\n",
      "    -K, --Krona         create a Krona plot. Requires KronaTools to be\n",
      "                        installed\n",
      "    -S, --Stackedplot   create a stacked bar plot. Requires Python packages to\n",
      "                        be installed\n",
      "    -V, --visualized    perform all visualization tasks (Same as: -K -S)\n",
      "\n",
      "  Help:\n",
      "    -h, --help          show this help message and exit\n",
      "    -v, --version       show version number and exit\n",
      "(nanopore2) \n"
     ]
    },
    {
     "ename": "",
     "evalue": "1",
     "output_type": "error",
     "traceback": []
    }
   ],
   "source": [
    "## Getting Started\n",
    "# git clone https://github.com/seoldh/MIrROR.git\n",
    "# cd MIrROR\n",
    "# ./MIrROR.py -h"
   ]
  },
  {
   "cell_type": "code",
   "execution_count": 21,
   "id": "a6b41637-3ede-4d06-8556-ce9392327dac",
   "metadata": {
    "tags": []
   },
   "outputs": [
    {
     "name": "stdout",
     "output_type": "stream",
     "text": [
      "(nanopore2) \n",
      "(nanopore2) \n",
      "--2023-02-10 12:30:09--  http://mirror.egnome.co.kr/media/ToolsDatabase/2021_06/MIrROR_DB_r01.mmi\n",
      "Resolving mirror.egnome.co.kr (mirror.egnome.co.kr)... 147.47.67.225\n",
      "Connecting to mirror.egnome.co.kr (mirror.egnome.co.kr)|147.47.67.225|:80... connected.\n",
      "HTTP request sent, awaiting response... 200 OK\n",
      "Length: 846091773 (807M) [application/octet-stream]\n",
      "Saving to: ‘DBDIR/MIrROR_DB_r01.mmi’\n",
      "\n",
      "MIrROR_DB_r01.mmi   100%[===================>] 806.90M   224KB/s    in 1h 46m  \n",
      "\n",
      "2023-02-10 14:16:17 (130 KB/s) - ‘DBDIR/MIrROR_DB_r01.mmi’ saved [846091773/846091773]\n",
      "\n",
      "(nanopore2) \n",
      "--2023-02-10 14:16:17--  http://mirror.egnome.co.kr/media/ToolsDatabase/2021_06/MIrROR_DB_r01.tsv\n",
      "Resolving mirror.egnome.co.kr (mirror.egnome.co.kr)... 147.47.67.225\n",
      "Connecting to mirror.egnome.co.kr (mirror.egnome.co.kr)|147.47.67.225|:80... connected.\n",
      "HTTP request sent, awaiting response... 302 Found\n",
      "Location: http://mirror.egnome.co.kr/003892724856/media/ToolsDatabase/2021_06/MIrROR_DB_r01.tsv [following]\n",
      "--2023-02-10 14:16:18--  http://mirror.egnome.co.kr/003892724856/media/ToolsDatabase/2021_06/MIrROR_DB_r01.tsv\n",
      "Connecting to mirror.egnome.co.kr (mirror.egnome.co.kr)|147.47.67.225|:80... connected.\n",
      "HTTP request sent, awaiting response... 302 Found\n",
      "Location: http://mirror.egnome.co.kr/media/ToolsDatabase/2021_06/MIrROR_DB_r01.tsv [following]\n",
      "--2023-02-10 14:16:18--  http://mirror.egnome.co.kr/media/ToolsDatabase/2021_06/MIrROR_DB_r01.tsv\n",
      "Connecting to mirror.egnome.co.kr (mirror.egnome.co.kr)|147.47.67.225|:80... connected.\n",
      "HTTP request sent, awaiting response... 200 OK\n",
      "Length: 5127809 (4.9M) [text/tab-separated-values]\n",
      "Saving to: ‘DBDIR/MIrROR_DB_r01.tsv’\n",
      "\n",
      "MIrROR_DB_r01.tsv   100%[===================>]   4.89M   104KB/s    in 77s     \n",
      "\n",
      "2023-02-10 14:17:37 (64.7 KB/s) - ‘DBDIR/MIrROR_DB_r01.tsv’ saved [5127809/5127809]\n",
      "\n",
      "(nanopore2) \n"
     ]
    },
    {
     "ename": "",
     "evalue": "1",
     "output_type": "error",
     "traceback": []
    }
   ],
   "source": [
    "## Download 16S-23S rRNA operon database\n",
    "#mkdir DBDIR\n",
    "#wget -P DBDIR http://mirror.egnome.co.kr/media/ToolsDatabase/2021_06/MIrROR_DB_r01.mmi\n",
    "#wget -P DBDIR http://mirror.egnome.co.kr/media/ToolsDatabase/2021_06/MIrROR_DB_r01.tsv"
   ]
  },
  {
   "cell_type": "code",
   "execution_count": 7,
   "id": "fa6f182f-6034-4f91-9fd9-f88b5228d2b0",
   "metadata": {
    "tags": []
   },
   "outputs": [
    {
     "name": "stdout",
     "output_type": "stream",
     "text": [
      "(nanopore2) \n",
      "MIrROR analysis tool v1.0 Built on Apr 28 2022\n",
      "Command                    : ./MIrROR.py -V -d DBDIR -o ../results/test ../trimmed_fasta/test.fa\n",
      "DataBase                   : /media/esuter/MyPassport/Oyster_Pathogen_WRI_Jupyter/MIrROR/DBDIR/MIrROR_DB_r01.mmi\n",
      "                             /media/esuter/MyPassport/Oyster_Pathogen_WRI_Jupyter/MIrROR/DBDIR/MIrROR_DB_r01.tsv\n",
      "                             Database release 01 (built Jan 21 2021)\n",
      "Input Format               : [FASTA] /media/esuter/MyPassport/Oyster_Pathogen_WRI_Jupyter/trimmed_fasta/test.fa\n",
      "Group information          : No\n",
      "Read filtering threshold   : Number of residue matches - 2500 bp, Alignment block length - 3500 bp\n",
      "\n",
      "\n",
      "[2023-02-10 15:08:26] INFO : MIrROR analysis Start\n",
      "[2023-02-10 15:08:26] INFO : filecheck STEP START\n",
      "[2023-02-10 15:08:26] INFO : 1 sample proceeding\n",
      "[2023-02-10 15:08:26] INFO : mapping STEP START\n",
      "[2023-02-10 15:08:26] INFO : 1 / 1 Mapping...\n",
      "[2023-02-10 15:08:29] INFO : classification STEP START\n",
      "[2023-02-10 15:08:29] INFO : 1 / 1 Annotatioin...\n",
      "[2023-02-10 15:08:29] INFO : OTUtable STEP START\n",
      "[2023-02-10 15:08:29] INFO : Created OTU table (standard version)  : /media/esuter/MyPassport/Oyster_Pathogen_WRI_Jupyter/results/test/OTUtable/OUTPUT_std.txt\n",
      "[2023-02-10 15:08:29] INFO :                   (MetaPhlAn version) : /media/esuter/MyPassport/Oyster_Pathogen_WRI_Jupyter/results/test/OTUtable/OUTPUT_mpa.txt\n",
      "[2023-02-10 15:08:29] INFO :                   (for Krona plot)    : /media/esuter/MyPassport/Oyster_Pathogen_WRI_Jupyter/results/test/OTUtable/OUTPUT_std_type2.txt\n",
      "[2023-02-10 15:08:29] INFO : visualization STEP START\n",
      "[2023-02-10 15:08:30] INFO : Created Stacked bar plot (phylum)     : /media/esuter/MyPassport/Oyster_Pathogen_WRI_Jupyter/results/test/visualization/stacked_phylum.png\n",
      "[2023-02-10 15:08:30] INFO :                          (class)      : /media/esuter/MyPassport/Oyster_Pathogen_WRI_Jupyter/results/test/visualization/stacked_class.png\n",
      "[2023-02-10 15:08:30] INFO :                          (order)      : /media/esuter/MyPassport/Oyster_Pathogen_WRI_Jupyter/results/test/visualization/stacked_order.png\n",
      "[2023-02-10 15:08:30] INFO :                          (family)     : /media/esuter/MyPassport/Oyster_Pathogen_WRI_Jupyter/results/test/visualization/stacked_family.png\n",
      "[2023-02-10 15:08:30] INFO :                          (genus)      : /media/esuter/MyPassport/Oyster_Pathogen_WRI_Jupyter/results/test/visualization/stacked_genus.png\n",
      "[2023-02-10 15:08:30] INFO :                          (species)    : /media/esuter/MyPassport/Oyster_Pathogen_WRI_Jupyter/results/test/visualization/stacked_species.png\n",
      "[2023-02-10 15:08:30] INFO : Log from OTUsamples2krona\n",
      "Writing krona/test.fa.tax.html...\n",
      "Krona charts have been created in krona\n",
      "Adios\n",
      "\n",
      "[2023-02-10 15:08:30] INFO : Created Krona plot                    :  /media/esuter/MyPassport/Oyster_Pathogen_WRI_Jupyter/results/test/visualization/krona\n",
      "[2023-02-10 15:08:30] INFO : MIrROR analysis Completed!\n",
      "\n",
      "Total time used            : 0:00:03.835219\n",
      "\n",
      "MIrROR analysis log file is created : /media/esuter/MyPassport/Oyster_Pathogen_WRI_Jupyter/results/test/test.log\n",
      "\n",
      "(nanopore2) \n"
     ]
    },
    {
     "ename": "",
     "evalue": "1",
     "output_type": "error",
     "traceback": []
    }
   ],
   "source": [
    "# Try on test data\n",
    "./MIrROR.py -V -d DBDIR -o ../results/test ../trimmed_fasta/test.fa"
   ]
  },
  {
   "cell_type": "markdown",
   "id": "ff838fdf-1e15-47fe-80ba-278072ff8fa6",
   "metadata": {
    "tags": []
   },
   "source": [
    "Got it working. Run the samples. Still need to find out alignment quality- that is hidden somewhere in .paf file (output from minimap2). But at least generate tables for now"
   ]
  },
  {
   "cell_type": "code",
   "execution_count": 8,
   "id": "ad2229c5-758f-4b1e-a2fc-f0f15d6937e2",
   "metadata": {
    "tags": []
   },
   "outputs": [
    {
     "name": "stdout",
     "output_type": "stream",
     "text": [
      "MIrROR analysis tool v1.0 Built on Apr 28 2022\n",
      "Command                    : ./MIrROR.py -V -d DBDIR -o ../results/b01 ../trimmed_fasta/b01.fa\n",
      "DataBase                   : /media/esuter/MyPassport/Oyster_Pathogen_WRI_Jupyter/MIrROR/DBDIR/MIrROR_DB_r01.mmi\n",
      "                             /media/esuter/MyPassport/Oyster_Pathogen_WRI_Jupyter/MIrROR/DBDIR/MIrROR_DB_r01.tsv\n",
      "                             Database release 01 (built Jan 21 2021)\n",
      "Input Format               : [FASTA] /media/esuter/MyPassport/Oyster_Pathogen_WRI_Jupyter/trimmed_fasta/b01.fa\n",
      "Group information          : No\n",
      "Read filtering threshold   : Number of residue matches - 2500 bp, Alignment block length - 3500 bp\n",
      "\n",
      "\n",
      "[2023-02-10 15:17:55] INFO : MIrROR analysis Start\n",
      "[2023-02-10 15:17:55] INFO : filecheck STEP START\n",
      "[2023-02-10 15:17:55] INFO : 1 sample proceeding\n",
      "[2023-02-10 15:17:55] INFO : mapping STEP START\n",
      "[2023-02-10 15:17:55] INFO : 1 / 1 Mapping...\n",
      "[2023-02-10 16:36:01] INFO : classification STEP START\n",
      "[2023-02-10 16:36:01] INFO : 1 / 1 Annotatioin...\n",
      "[2023-02-10 16:36:01] INFO : OTUtable STEP START\n",
      "[2023-02-10 16:36:01] INFO : Created OTU table (standard version)  : /media/esuter/MyPassport/Oyster_Pathogen_WRI_Jupyter/results/b01/OTUtable/OUTPUT_std.txt\n",
      "[2023-02-10 16:36:01] INFO :                   (MetaPhlAn version) : /media/esuter/MyPassport/Oyster_Pathogen_WRI_Jupyter/results/b01/OTUtable/OUTPUT_mpa.txt\n",
      "[2023-02-10 16:36:01] INFO :                   (for Krona plot)    : /media/esuter/MyPassport/Oyster_Pathogen_WRI_Jupyter/results/b01/OTUtable/OUTPUT_std_type2.txt\n",
      "[2023-02-10 16:36:01] INFO : visualization STEP START\n",
      "[2023-02-10 16:36:02] INFO : Created Stacked bar plot (phylum)     : /media/esuter/MyPassport/Oyster_Pathogen_WRI_Jupyter/results/b01/visualization/stacked_phylum.png\n",
      "[2023-02-10 16:36:02] INFO :                          (class)      : /media/esuter/MyPassport/Oyster_Pathogen_WRI_Jupyter/results/b01/visualization/stacked_class.png\n",
      "[2023-02-10 16:36:02] INFO :                          (order)      : /media/esuter/MyPassport/Oyster_Pathogen_WRI_Jupyter/results/b01/visualization/stacked_order.png\n",
      "[2023-02-10 16:36:03] INFO :                          (family)     : /media/esuter/MyPassport/Oyster_Pathogen_WRI_Jupyter/results/b01/visualization/stacked_family.png\n",
      "[2023-02-10 16:36:03] INFO :                          (genus)      : /media/esuter/MyPassport/Oyster_Pathogen_WRI_Jupyter/results/b01/visualization/stacked_genus.png\n",
      "[2023-02-10 16:36:04] INFO :                          (species)    : /media/esuter/MyPassport/Oyster_Pathogen_WRI_Jupyter/results/b01/visualization/stacked_species.png\n",
      "[2023-02-10 16:36:04] INFO : Log from OTUsamples2krona\n",
      "Writing krona/b01.fa.tax.html...\n",
      "Krona charts have been created in krona\n",
      "Adios\n",
      "\n",
      "[2023-02-10 16:36:04] INFO : Created Krona plot                    :  /media/esuter/MyPassport/Oyster_Pathogen_WRI_Jupyter/results/b01/visualization/krona\n",
      "[2023-02-10 16:36:04] INFO : MIrROR analysis Completed!\n",
      "\n",
      "Total time used            : 1:18:08.778566\n",
      "\n",
      "MIrROR analysis log file is created : /media/esuter/MyPassport/Oyster_Pathogen_WRI_Jupyter/results/b01/b01.log\n",
      "\n",
      "(nanopore2) \n",
      "MIrROR analysis tool v1.0 Built on Apr 28 2022\n",
      "Command                    : ./MIrROR.py -V -d DBDIR -o ../results/b02 ../trimmed_fasta/b02.fa\n",
      "DataBase                   : /media/esuter/MyPassport/Oyster_Pathogen_WRI_Jupyter/MIrROR/DBDIR/MIrROR_DB_r01.mmi\n",
      "                             /media/esuter/MyPassport/Oyster_Pathogen_WRI_Jupyter/MIrROR/DBDIR/MIrROR_DB_r01.tsv\n",
      "                             Database release 01 (built Jan 21 2021)\n",
      "Input Format               : [FASTA] /media/esuter/MyPassport/Oyster_Pathogen_WRI_Jupyter/trimmed_fasta/b02.fa\n",
      "Group information          : No\n",
      "Read filtering threshold   : Number of residue matches - 2500 bp, Alignment block length - 3500 bp\n",
      "\n",
      "\n",
      "[2023-02-10 16:36:04] INFO : MIrROR analysis Start\n",
      "[2023-02-10 16:36:04] INFO : filecheck STEP START\n",
      "[2023-02-10 16:36:04] INFO : 1 sample proceeding\n",
      "[2023-02-10 16:36:04] INFO : mapping STEP START\n",
      "[2023-02-10 16:36:04] INFO : 1 / 1 Mapping...\n",
      "[2023-02-10 19:32:15] INFO : classification STEP START\n",
      "[2023-02-10 19:32:15] INFO : 1 / 1 Annotatioin...\n",
      "[2023-02-10 19:32:15] INFO : OTUtable STEP START\n",
      "[2023-02-10 19:32:15] INFO : Created OTU table (standard version)  : /media/esuter/MyPassport/Oyster_Pathogen_WRI_Jupyter/results/b02/OTUtable/OUTPUT_std.txt\n",
      "[2023-02-10 19:32:15] INFO :                   (MetaPhlAn version) : /media/esuter/MyPassport/Oyster_Pathogen_WRI_Jupyter/results/b02/OTUtable/OUTPUT_mpa.txt\n",
      "[2023-02-10 19:32:15] INFO :                   (for Krona plot)    : /media/esuter/MyPassport/Oyster_Pathogen_WRI_Jupyter/results/b02/OTUtable/OUTPUT_std_type2.txt\n",
      "[2023-02-10 19:32:15] INFO : visualization STEP START\n",
      "[2023-02-10 19:32:16] INFO : Created Stacked bar plot (phylum)     : /media/esuter/MyPassport/Oyster_Pathogen_WRI_Jupyter/results/b02/visualization/stacked_phylum.png\n",
      "[2023-02-10 19:32:16] INFO :                          (class)      : /media/esuter/MyPassport/Oyster_Pathogen_WRI_Jupyter/results/b02/visualization/stacked_class.png\n",
      "[2023-02-10 19:32:17] INFO :                          (order)      : /media/esuter/MyPassport/Oyster_Pathogen_WRI_Jupyter/results/b02/visualization/stacked_order.png\n",
      "[2023-02-10 19:32:19] INFO :                          (family)     : /media/esuter/MyPassport/Oyster_Pathogen_WRI_Jupyter/results/b02/visualization/stacked_family.png\n",
      "[2023-02-10 19:32:22] INFO :                          (genus)      : /media/esuter/MyPassport/Oyster_Pathogen_WRI_Jupyter/results/b02/visualization/stacked_genus.png\n",
      "[2023-02-10 19:32:31] INFO :                          (species)    : /media/esuter/MyPassport/Oyster_Pathogen_WRI_Jupyter/results/b02/visualization/stacked_species.png\n",
      "[2023-02-10 19:32:31] INFO : Log from OTUsamples2krona\n",
      "Writing krona/b02.fa.tax.html...\n",
      "Krona charts have been created in krona\n",
      "Adios\n",
      "\n",
      "[2023-02-10 19:32:31] INFO : Created Krona plot                    :  /media/esuter/MyPassport/Oyster_Pathogen_WRI_Jupyter/results/b02/visualization/krona\n",
      "[2023-02-10 19:32:31] INFO : MIrROR analysis Completed!\n",
      "\n",
      "Total time used            : 2:56:26.847421\n",
      "\n",
      "MIrROR analysis log file is created : /media/esuter/MyPassport/Oyster_Pathogen_WRI_Jupyter/results/b02/b02.log\n",
      "\n",
      "(nanopore2) \n",
      "MIrROR analysis tool v1.0 Built on Apr 28 2022\n",
      "Command                    : ./MIrROR.py -V -d DBDIR -o ../results/b03 ../trimmed_fasta/b03.fa\n",
      "DataBase                   : /media/esuter/MyPassport/Oyster_Pathogen_WRI_Jupyter/MIrROR/DBDIR/MIrROR_DB_r01.mmi\n",
      "                             /media/esuter/MyPassport/Oyster_Pathogen_WRI_Jupyter/MIrROR/DBDIR/MIrROR_DB_r01.tsv\n",
      "                             Database release 01 (built Jan 21 2021)\n",
      "Input Format               : [FASTA] /media/esuter/MyPassport/Oyster_Pathogen_WRI_Jupyter/trimmed_fasta/b03.fa\n",
      "Group information          : No\n",
      "Read filtering threshold   : Number of residue matches - 2500 bp, Alignment block length - 3500 bp\n",
      "\n",
      "\n",
      "[2023-02-10 19:32:32] INFO : MIrROR analysis Start\n",
      "[2023-02-10 19:32:32] INFO : filecheck STEP START\n",
      "[2023-02-10 19:32:32] INFO : 1 sample proceeding\n",
      "[2023-02-10 19:32:32] INFO : mapping STEP START\n",
      "[2023-02-10 19:32:32] INFO : 1 / 1 Mapping...\n",
      "[2023-02-10 23:12:06] INFO : classification STEP START\n",
      "[2023-02-10 23:12:06] INFO : 1 / 1 Annotatioin...\n",
      "[2023-02-10 23:12:06] INFO : OTUtable STEP START\n",
      "[2023-02-10 23:12:06] INFO : Created OTU table (standard version)  : /media/esuter/MyPassport/Oyster_Pathogen_WRI_Jupyter/results/b03/OTUtable/OUTPUT_std.txt\n",
      "[2023-02-10 23:12:06] INFO :                   (MetaPhlAn version) : /media/esuter/MyPassport/Oyster_Pathogen_WRI_Jupyter/results/b03/OTUtable/OUTPUT_mpa.txt\n",
      "[2023-02-10 23:12:06] INFO :                   (for Krona plot)    : /media/esuter/MyPassport/Oyster_Pathogen_WRI_Jupyter/results/b03/OTUtable/OUTPUT_std_type2.txt\n",
      "[2023-02-10 23:12:06] INFO : visualization STEP START\n",
      "[2023-02-10 23:12:07] INFO : Created Stacked bar plot (phylum)     : /media/esuter/MyPassport/Oyster_Pathogen_WRI_Jupyter/results/b03/visualization/stacked_phylum.png\n",
      "[2023-02-10 23:12:07] INFO :                          (class)      : /media/esuter/MyPassport/Oyster_Pathogen_WRI_Jupyter/results/b03/visualization/stacked_class.png\n",
      "[2023-02-10 23:12:07] INFO :                          (order)      : /media/esuter/MyPassport/Oyster_Pathogen_WRI_Jupyter/results/b03/visualization/stacked_order.png\n",
      "[2023-02-10 23:12:08] INFO :                          (family)     : /media/esuter/MyPassport/Oyster_Pathogen_WRI_Jupyter/results/b03/visualization/stacked_family.png\n",
      "[2023-02-10 23:12:08] INFO :                          (genus)      : /media/esuter/MyPassport/Oyster_Pathogen_WRI_Jupyter/results/b03/visualization/stacked_genus.png\n",
      "[2023-02-10 23:12:09] INFO :                          (species)    : /media/esuter/MyPassport/Oyster_Pathogen_WRI_Jupyter/results/b03/visualization/stacked_species.png\n",
      "[2023-02-10 23:12:09] INFO : Log from OTUsamples2krona\n",
      "Writing krona/b03.fa.tax.html...\n",
      "Krona charts have been created in krona\n",
      "Adios\n",
      "\n",
      "[2023-02-10 23:12:09] INFO : Created Krona plot                    :  /media/esuter/MyPassport/Oyster_Pathogen_WRI_Jupyter/results/b03/visualization/krona\n",
      "[2023-02-10 23:12:09] INFO : MIrROR analysis Completed!\n",
      "\n",
      "Total time used            : 3:39:37.306994\n",
      "\n",
      "MIrROR analysis log file is created : /media/esuter/MyPassport/Oyster_Pathogen_WRI_Jupyter/results/b03/b03.log\n",
      "\n",
      "(nanopore2) \n",
      "MIrROR analysis tool v1.0 Built on Apr 28 2022\n",
      "Command                    : ./MIrROR.py -V -d DBDIR -o ../results/b04 ../trimmed_fasta/b04.fa\n",
      "DataBase                   : /media/esuter/MyPassport/Oyster_Pathogen_WRI_Jupyter/MIrROR/DBDIR/MIrROR_DB_r01.mmi\n",
      "                             /media/esuter/MyPassport/Oyster_Pathogen_WRI_Jupyter/MIrROR/DBDIR/MIrROR_DB_r01.tsv\n",
      "                             Database release 01 (built Jan 21 2021)\n",
      "Input Format               : [FASTA] /media/esuter/MyPassport/Oyster_Pathogen_WRI_Jupyter/trimmed_fasta/b04.fa\n",
      "Group information          : No\n",
      "Read filtering threshold   : Number of residue matches - 2500 bp, Alignment block length - 3500 bp\n",
      "\n",
      "\n",
      "[2023-02-10 23:12:09] INFO : MIrROR analysis Start\n",
      "[2023-02-10 23:12:09] INFO : filecheck STEP START\n",
      "[2023-02-10 23:12:09] INFO : 1 sample proceeding\n",
      "[2023-02-10 23:12:09] INFO : mapping STEP START\n",
      "[2023-02-10 23:12:09] INFO : 1 / 1 Mapping...\n",
      "[2023-02-11 02:04:34] INFO : classification STEP START\n",
      "[2023-02-11 02:04:34] INFO : 1 / 1 Annotatioin...\n",
      "[2023-02-11 02:04:34] INFO : OTUtable STEP START\n",
      "[2023-02-11 02:04:34] INFO : Created OTU table (standard version)  : /media/esuter/MyPassport/Oyster_Pathogen_WRI_Jupyter/results/b04/OTUtable/OUTPUT_std.txt\n",
      "[2023-02-11 02:04:34] INFO :                   (MetaPhlAn version) : /media/esuter/MyPassport/Oyster_Pathogen_WRI_Jupyter/results/b04/OTUtable/OUTPUT_mpa.txt\n",
      "[2023-02-11 02:04:34] INFO :                   (for Krona plot)    : /media/esuter/MyPassport/Oyster_Pathogen_WRI_Jupyter/results/b04/OTUtable/OUTPUT_std_type2.txt\n",
      "[2023-02-11 02:04:34] INFO : visualization STEP START\n",
      "[2023-02-11 02:04:34] INFO : Created Stacked bar plot (phylum)     : /media/esuter/MyPassport/Oyster_Pathogen_WRI_Jupyter/results/b04/visualization/stacked_phylum.png\n",
      "[2023-02-11 02:04:35] INFO :                          (class)      : /media/esuter/MyPassport/Oyster_Pathogen_WRI_Jupyter/results/b04/visualization/stacked_class.png\n",
      "[2023-02-11 02:04:35] INFO :                          (order)      : /media/esuter/MyPassport/Oyster_Pathogen_WRI_Jupyter/results/b04/visualization/stacked_order.png\n",
      "[2023-02-11 02:04:35] INFO :                          (family)     : /media/esuter/MyPassport/Oyster_Pathogen_WRI_Jupyter/results/b04/visualization/stacked_family.png\n",
      "[2023-02-11 02:04:36] INFO :                          (genus)      : /media/esuter/MyPassport/Oyster_Pathogen_WRI_Jupyter/results/b04/visualization/stacked_genus.png\n",
      "[2023-02-11 02:04:37] INFO :                          (species)    : /media/esuter/MyPassport/Oyster_Pathogen_WRI_Jupyter/results/b04/visualization/stacked_species.png\n",
      "[2023-02-11 02:04:37] INFO : Log from OTUsamples2krona\n",
      "Writing krona/b04.fa.tax.html...\n",
      "Krona charts have been created in krona\n",
      "Adios\n",
      "\n",
      "[2023-02-11 02:04:37] INFO : Created Krona plot                    :  /media/esuter/MyPassport/Oyster_Pathogen_WRI_Jupyter/results/b04/visualization/krona\n",
      "[2023-02-11 02:04:37] INFO : MIrROR analysis Completed!\n",
      "\n",
      "Total time used            : 2:52:27.597229\n",
      "\n",
      "MIrROR analysis log file is created : /media/esuter/MyPassport/Oyster_Pathogen_WRI_Jupyter/results/b04/b04.log\n",
      "\n",
      "(nanopore2) \n",
      "MIrROR analysis tool v1.0 Built on Apr 28 2022\n",
      "Command                    : ./MIrROR.py -V -d DBDIR -o ../results/b05 ../trimmed_fasta/b05.fa\n",
      "DataBase                   : /media/esuter/MyPassport/Oyster_Pathogen_WRI_Jupyter/MIrROR/DBDIR/MIrROR_DB_r01.mmi\n",
      "                             /media/esuter/MyPassport/Oyster_Pathogen_WRI_Jupyter/MIrROR/DBDIR/MIrROR_DB_r01.tsv\n",
      "                             Database release 01 (built Jan 21 2021)\n",
      "Input Format               : [FASTA] /media/esuter/MyPassport/Oyster_Pathogen_WRI_Jupyter/trimmed_fasta/b05.fa\n",
      "Group information          : No\n",
      "Read filtering threshold   : Number of residue matches - 2500 bp, Alignment block length - 3500 bp\n",
      "\n",
      "\n",
      "[2023-02-11 02:04:37] INFO : MIrROR analysis Start\n",
      "[2023-02-11 02:04:37] INFO : filecheck STEP START\n",
      "[2023-02-11 02:04:37] INFO : 1 sample proceeding\n",
      "[2023-02-11 02:04:37] INFO : mapping STEP START\n",
      "[2023-02-11 02:04:37] INFO : 1 / 1 Mapping...\n",
      "[2023-02-11 06:11:24] INFO : classification STEP START\n",
      "[2023-02-11 06:11:24] INFO : 1 / 1 Annotatioin...\n",
      "[2023-02-11 06:11:24] INFO : OTUtable STEP START\n",
      "[2023-02-11 06:11:24] INFO : Created OTU table (standard version)  : /media/esuter/MyPassport/Oyster_Pathogen_WRI_Jupyter/results/b05/OTUtable/OUTPUT_std.txt\n",
      "[2023-02-11 06:11:24] INFO :                   (MetaPhlAn version) : /media/esuter/MyPassport/Oyster_Pathogen_WRI_Jupyter/results/b05/OTUtable/OUTPUT_mpa.txt\n",
      "[2023-02-11 06:11:24] INFO :                   (for Krona plot)    : /media/esuter/MyPassport/Oyster_Pathogen_WRI_Jupyter/results/b05/OTUtable/OUTPUT_std_type2.txt\n",
      "[2023-02-11 06:11:24] INFO : visualization STEP START\n",
      "[2023-02-11 06:11:25] INFO : Created Stacked bar plot (phylum)     : /media/esuter/MyPassport/Oyster_Pathogen_WRI_Jupyter/results/b05/visualization/stacked_phylum.png\n",
      "[2023-02-11 06:11:25] INFO :                          (class)      : /media/esuter/MyPassport/Oyster_Pathogen_WRI_Jupyter/results/b05/visualization/stacked_class.png\n",
      "[2023-02-11 06:11:25] INFO :                          (order)      : /media/esuter/MyPassport/Oyster_Pathogen_WRI_Jupyter/results/b05/visualization/stacked_order.png\n",
      "[2023-02-11 06:11:26] INFO :                          (family)     : /media/esuter/MyPassport/Oyster_Pathogen_WRI_Jupyter/results/b05/visualization/stacked_family.png\n",
      "[2023-02-11 06:11:26] INFO :                          (genus)      : /media/esuter/MyPassport/Oyster_Pathogen_WRI_Jupyter/results/b05/visualization/stacked_genus.png\n",
      "[2023-02-11 06:11:27] INFO :                          (species)    : /media/esuter/MyPassport/Oyster_Pathogen_WRI_Jupyter/results/b05/visualization/stacked_species.png\n",
      "[2023-02-11 06:11:27] INFO : Log from OTUsamples2krona\n",
      "Writing krona/b05.fa.tax.html...\n",
      "Krona charts have been created in krona\n",
      "Adios\n",
      "\n",
      "[2023-02-11 06:11:27] INFO : Created Krona plot                    :  /media/esuter/MyPassport/Oyster_Pathogen_WRI_Jupyter/results/b05/visualization/krona\n",
      "[2023-02-11 06:11:27] INFO : MIrROR analysis Completed!\n",
      "\n",
      "Total time used            : 4:06:50.341560\n",
      "\n",
      "MIrROR analysis log file is created : /media/esuter/MyPassport/Oyster_Pathogen_WRI_Jupyter/results/b05/b05.log\n",
      "\n",
      "(nanopore2) \n",
      "MIrROR analysis tool v1.0 Built on Apr 28 2022\n",
      "Command                    : ./MIrROR.py -V -d DBDIR -o ../results/b06 ../trimmed_fasta/b06.fa\n",
      "DataBase                   : /media/esuter/MyPassport/Oyster_Pathogen_WRI_Jupyter/MIrROR/DBDIR/MIrROR_DB_r01.mmi\n",
      "                             /media/esuter/MyPassport/Oyster_Pathogen_WRI_Jupyter/MIrROR/DBDIR/MIrROR_DB_r01.tsv\n",
      "                             Database release 01 (built Jan 21 2021)\n",
      "Input Format               : [FASTA] /media/esuter/MyPassport/Oyster_Pathogen_WRI_Jupyter/trimmed_fasta/b06.fa\n",
      "Group information          : No\n",
      "Read filtering threshold   : Number of residue matches - 2500 bp, Alignment block length - 3500 bp\n",
      "\n",
      "\n",
      "[2023-02-11 06:11:27] INFO : MIrROR analysis Start\n",
      "[2023-02-11 06:11:27] INFO : filecheck STEP START\n",
      "[2023-02-11 06:11:27] INFO : 1 sample proceeding\n",
      "[2023-02-11 06:11:27] INFO : mapping STEP START\n",
      "[2023-02-11 06:11:27] INFO : 1 / 1 Mapping...\n",
      "[2023-02-11 10:12:48] INFO : classification STEP START\n",
      "[2023-02-11 10:12:48] INFO : 1 / 1 Annotatioin...\n",
      "[2023-02-11 10:12:48] INFO : OTUtable STEP START\n",
      "[2023-02-11 10:12:48] INFO : Created OTU table (standard version)  : /media/esuter/MyPassport/Oyster_Pathogen_WRI_Jupyter/results/b06/OTUtable/OUTPUT_std.txt\n",
      "[2023-02-11 10:12:48] INFO :                   (MetaPhlAn version) : /media/esuter/MyPassport/Oyster_Pathogen_WRI_Jupyter/results/b06/OTUtable/OUTPUT_mpa.txt\n",
      "[2023-02-11 10:12:48] INFO :                   (for Krona plot)    : /media/esuter/MyPassport/Oyster_Pathogen_WRI_Jupyter/results/b06/OTUtable/OUTPUT_std_type2.txt\n",
      "[2023-02-11 10:12:48] INFO : visualization STEP START\n",
      "[2023-02-11 10:12:48] INFO : Created Stacked bar plot (phylum)     : /media/esuter/MyPassport/Oyster_Pathogen_WRI_Jupyter/results/b06/visualization/stacked_phylum.png\n",
      "[2023-02-11 10:12:49] INFO :                          (class)      : /media/esuter/MyPassport/Oyster_Pathogen_WRI_Jupyter/results/b06/visualization/stacked_class.png\n",
      "[2023-02-11 10:12:50] INFO :                          (order)      : /media/esuter/MyPassport/Oyster_Pathogen_WRI_Jupyter/results/b06/visualization/stacked_order.png\n",
      "[2023-02-11 10:12:50] INFO :                          (family)     : /media/esuter/MyPassport/Oyster_Pathogen_WRI_Jupyter/results/b06/visualization/stacked_family.png\n",
      "[2023-02-11 10:12:51] INFO :                          (genus)      : /media/esuter/MyPassport/Oyster_Pathogen_WRI_Jupyter/results/b06/visualization/stacked_genus.png\n",
      "[2023-02-11 10:12:53] INFO :                          (species)    : /media/esuter/MyPassport/Oyster_Pathogen_WRI_Jupyter/results/b06/visualization/stacked_species.png\n",
      "[2023-02-11 10:12:53] INFO : Log from OTUsamples2krona\n",
      "Writing krona/b06.fa.tax.html...\n",
      "Krona charts have been created in krona\n",
      "Adios\n",
      "\n",
      "[2023-02-11 10:12:53] INFO : Created Krona plot                    :  /media/esuter/MyPassport/Oyster_Pathogen_WRI_Jupyter/results/b06/visualization/krona\n",
      "[2023-02-11 10:12:53] INFO : MIrROR analysis Completed!\n",
      "\n",
      "Total time used            : 4:01:26.101685\n",
      "\n",
      "MIrROR analysis log file is created : /media/esuter/MyPassport/Oyster_Pathogen_WRI_Jupyter/results/b06/b06.log\n",
      "\n",
      "(nanopore2) \n",
      "MIrROR analysis tool v1.0 Built on Apr 28 2022\n",
      "Command                    : ./MIrROR.py -V -d DBDIR -o ../results/b07 ../trimmed_fasta/b07.fa\n",
      "DataBase                   : /media/esuter/MyPassport/Oyster_Pathogen_WRI_Jupyter/MIrROR/DBDIR/MIrROR_DB_r01.mmi\n",
      "                             /media/esuter/MyPassport/Oyster_Pathogen_WRI_Jupyter/MIrROR/DBDIR/MIrROR_DB_r01.tsv\n",
      "                             Database release 01 (built Jan 21 2021)\n",
      "Input Format               : [FASTA] /media/esuter/MyPassport/Oyster_Pathogen_WRI_Jupyter/trimmed_fasta/b07.fa\n",
      "Group information          : No\n",
      "Read filtering threshold   : Number of residue matches - 2500 bp, Alignment block length - 3500 bp\n",
      "\n",
      "\n",
      "[2023-02-11 10:12:54] INFO : MIrROR analysis Start\n",
      "[2023-02-11 10:12:54] INFO : filecheck STEP START\n",
      "[2023-02-11 10:12:54] INFO : 1 sample proceeding\n",
      "[2023-02-11 10:12:54] INFO : mapping STEP START\n",
      "[2023-02-11 10:12:54] INFO : 1 / 1 Mapping...\n",
      "[2023-02-11 12:33:42] INFO : classification STEP START\n",
      "[2023-02-11 12:33:42] INFO : 1 / 1 Annotatioin...\n",
      "[2023-02-11 12:33:43] INFO : OTUtable STEP START\n",
      "[2023-02-11 12:33:43] INFO : Created OTU table (standard version)  : /media/esuter/MyPassport/Oyster_Pathogen_WRI_Jupyter/results/b07/OTUtable/OUTPUT_std.txt\n",
      "[2023-02-11 12:33:43] INFO :                   (MetaPhlAn version) : /media/esuter/MyPassport/Oyster_Pathogen_WRI_Jupyter/results/b07/OTUtable/OUTPUT_mpa.txt\n",
      "[2023-02-11 12:33:43] INFO :                   (for Krona plot)    : /media/esuter/MyPassport/Oyster_Pathogen_WRI_Jupyter/results/b07/OTUtable/OUTPUT_std_type2.txt\n",
      "[2023-02-11 12:33:43] INFO : visualization STEP START\n",
      "[2023-02-11 12:33:43] INFO : Created Stacked bar plot (phylum)     : /media/esuter/MyPassport/Oyster_Pathogen_WRI_Jupyter/results/b07/visualization/stacked_phylum.png\n",
      "[2023-02-11 12:33:43] INFO :                          (class)      : /media/esuter/MyPassport/Oyster_Pathogen_WRI_Jupyter/results/b07/visualization/stacked_class.png\n",
      "[2023-02-11 12:33:44] INFO :                          (order)      : /media/esuter/MyPassport/Oyster_Pathogen_WRI_Jupyter/results/b07/visualization/stacked_order.png\n",
      "[2023-02-11 12:33:44] INFO :                          (family)     : /media/esuter/MyPassport/Oyster_Pathogen_WRI_Jupyter/results/b07/visualization/stacked_family.png\n",
      "[2023-02-11 12:33:45] INFO :                          (genus)      : /media/esuter/MyPassport/Oyster_Pathogen_WRI_Jupyter/results/b07/visualization/stacked_genus.png\n",
      "[2023-02-11 12:33:47] INFO :                          (species)    : /media/esuter/MyPassport/Oyster_Pathogen_WRI_Jupyter/results/b07/visualization/stacked_species.png\n",
      "[2023-02-11 12:33:47] INFO : Log from OTUsamples2krona\n",
      "Writing krona/b07.fa.tax.html...\n",
      "Krona charts have been created in krona\n",
      "Adios\n",
      "\n",
      "[2023-02-11 12:33:47] INFO : Created Krona plot                    :  /media/esuter/MyPassport/Oyster_Pathogen_WRI_Jupyter/results/b07/visualization/krona\n",
      "[2023-02-11 12:33:47] INFO : MIrROR analysis Completed!\n",
      "\n",
      "Total time used            : 2:20:53.182012\n",
      "\n",
      "MIrROR analysis log file is created : /media/esuter/MyPassport/Oyster_Pathogen_WRI_Jupyter/results/b07/b07.log\n",
      "\n",
      "(nanopore2) \n",
      "MIrROR analysis tool v1.0 Built on Apr 28 2022\n",
      "Command                    : ./MIrROR.py -V -d DBDIR -o ../results/b08 ../trimmed_fasta/b08.fa\n",
      "DataBase                   : /media/esuter/MyPassport/Oyster_Pathogen_WRI_Jupyter/MIrROR/DBDIR/MIrROR_DB_r01.mmi\n",
      "                             /media/esuter/MyPassport/Oyster_Pathogen_WRI_Jupyter/MIrROR/DBDIR/MIrROR_DB_r01.tsv\n",
      "                             Database release 01 (built Jan 21 2021)\n",
      "Input Format               : [FASTA] /media/esuter/MyPassport/Oyster_Pathogen_WRI_Jupyter/trimmed_fasta/b08.fa\n",
      "Group information          : No\n",
      "Read filtering threshold   : Number of residue matches - 2500 bp, Alignment block length - 3500 bp\n",
      "\n",
      "\n",
      "[2023-02-11 12:33:47] INFO : MIrROR analysis Start\n",
      "[2023-02-11 12:33:47] INFO : filecheck STEP START\n",
      "[2023-02-11 12:33:47] INFO : 1 sample proceeding\n",
      "[2023-02-11 12:33:47] INFO : mapping STEP START\n",
      "[2023-02-11 12:33:47] INFO : 1 / 1 Mapping...\n",
      "[2023-02-11 18:32:51] INFO : classification STEP START\n",
      "[2023-02-11 18:32:52] INFO : 1 / 1 Annotatioin...\n",
      "[2023-02-11 18:32:52] INFO : OTUtable STEP START\n",
      "[2023-02-11 18:32:52] INFO : Created OTU table (standard version)  : /media/esuter/MyPassport/Oyster_Pathogen_WRI_Jupyter/results/b08/OTUtable/OUTPUT_std.txt\n",
      "[2023-02-11 18:32:52] INFO :                   (MetaPhlAn version) : /media/esuter/MyPassport/Oyster_Pathogen_WRI_Jupyter/results/b08/OTUtable/OUTPUT_mpa.txt\n",
      "[2023-02-11 18:32:52] INFO :                   (for Krona plot)    : /media/esuter/MyPassport/Oyster_Pathogen_WRI_Jupyter/results/b08/OTUtable/OUTPUT_std_type2.txt\n",
      "[2023-02-11 18:32:52] INFO : visualization STEP START\n",
      "[2023-02-11 18:32:52] INFO : Created Stacked bar plot (phylum)     : /media/esuter/MyPassport/Oyster_Pathogen_WRI_Jupyter/results/b08/visualization/stacked_phylum.png\n",
      "[2023-02-11 18:32:52] INFO :                          (class)      : /media/esuter/MyPassport/Oyster_Pathogen_WRI_Jupyter/results/b08/visualization/stacked_class.png\n",
      "[2023-02-11 18:32:53] INFO :                          (order)      : /media/esuter/MyPassport/Oyster_Pathogen_WRI_Jupyter/results/b08/visualization/stacked_order.png\n",
      "[2023-02-11 18:32:53] INFO :                          (family)     : /media/esuter/MyPassport/Oyster_Pathogen_WRI_Jupyter/results/b08/visualization/stacked_family.png\n",
      "[2023-02-11 18:32:54] INFO :                          (genus)      : /media/esuter/MyPassport/Oyster_Pathogen_WRI_Jupyter/results/b08/visualization/stacked_genus.png\n",
      "[2023-02-11 18:32:55] INFO :                          (species)    : /media/esuter/MyPassport/Oyster_Pathogen_WRI_Jupyter/results/b08/visualization/stacked_species.png\n",
      "[2023-02-11 18:32:55] INFO : Log from OTUsamples2krona\n",
      "Writing krona/b08.fa.tax.html...\n",
      "Krona charts have been created in krona\n",
      "Adios\n",
      "\n",
      "[2023-02-11 18:32:55] INFO : Created Krona plot                    :  /media/esuter/MyPassport/Oyster_Pathogen_WRI_Jupyter/results/b08/visualization/krona\n",
      "[2023-02-11 18:32:55] INFO : MIrROR analysis Completed!\n",
      "\n",
      "Total time used            : 5:59:07.611812\n",
      "\n",
      "MIrROR analysis log file is created : /media/esuter/MyPassport/Oyster_Pathogen_WRI_Jupyter/results/b08/b08.log\n",
      "\n",
      "(nanopore2) \n",
      "MIrROR analysis tool v1.0 Built on Apr 28 2022\n",
      "Command                    : ./MIrROR.py -V -d DBDIR -o ../results/b09 ../trimmed_fasta/b09.fa\n",
      "DataBase                   : /media/esuter/MyPassport/Oyster_Pathogen_WRI_Jupyter/MIrROR/DBDIR/MIrROR_DB_r01.mmi\n",
      "                             /media/esuter/MyPassport/Oyster_Pathogen_WRI_Jupyter/MIrROR/DBDIR/MIrROR_DB_r01.tsv\n",
      "                             Database release 01 (built Jan 21 2021)\n",
      "Input Format               : [FASTA] /media/esuter/MyPassport/Oyster_Pathogen_WRI_Jupyter/trimmed_fasta/b09.fa\n",
      "Group information          : No\n",
      "Read filtering threshold   : Number of residue matches - 2500 bp, Alignment block length - 3500 bp\n",
      "\n",
      "\n",
      "[2023-02-11 18:32:55] INFO : MIrROR analysis Start\n",
      "[2023-02-11 18:32:55] INFO : filecheck STEP START\n",
      "[2023-02-11 18:32:55] INFO : 1 sample proceeding\n",
      "[2023-02-11 18:32:55] INFO : mapping STEP START\n",
      "[2023-02-11 18:32:55] INFO : 1 / 1 Mapping...\n",
      "[2023-02-11 21:28:27] INFO : classification STEP START\n",
      "[2023-02-11 21:28:27] INFO : 1 / 1 Annotatioin...\n",
      "[2023-02-11 21:28:27] INFO : OTUtable STEP START\n",
      "[2023-02-11 21:28:27] INFO : Created OTU table (standard version)  : /media/esuter/MyPassport/Oyster_Pathogen_WRI_Jupyter/results/b09/OTUtable/OUTPUT_std.txt\n",
      "[2023-02-11 21:28:27] INFO :                   (MetaPhlAn version) : /media/esuter/MyPassport/Oyster_Pathogen_WRI_Jupyter/results/b09/OTUtable/OUTPUT_mpa.txt\n",
      "[2023-02-11 21:28:27] INFO :                   (for Krona plot)    : /media/esuter/MyPassport/Oyster_Pathogen_WRI_Jupyter/results/b09/OTUtable/OUTPUT_std_type2.txt\n",
      "[2023-02-11 21:28:27] INFO : visualization STEP START\n",
      "[2023-02-11 21:28:28] INFO : Created Stacked bar plot (phylum)     : /media/esuter/MyPassport/Oyster_Pathogen_WRI_Jupyter/results/b09/visualization/stacked_phylum.png\n",
      "[2023-02-11 21:28:28] INFO :                          (class)      : /media/esuter/MyPassport/Oyster_Pathogen_WRI_Jupyter/results/b09/visualization/stacked_class.png\n",
      "[2023-02-11 21:28:28] INFO :                          (order)      : /media/esuter/MyPassport/Oyster_Pathogen_WRI_Jupyter/results/b09/visualization/stacked_order.png\n",
      "[2023-02-11 21:28:28] INFO :                          (family)     : /media/esuter/MyPassport/Oyster_Pathogen_WRI_Jupyter/results/b09/visualization/stacked_family.png\n",
      "[2023-02-11 21:28:29] INFO :                          (genus)      : /media/esuter/MyPassport/Oyster_Pathogen_WRI_Jupyter/results/b09/visualization/stacked_genus.png\n",
      "[2023-02-11 21:28:31] INFO :                          (species)    : /media/esuter/MyPassport/Oyster_Pathogen_WRI_Jupyter/results/b09/visualization/stacked_species.png\n",
      "[2023-02-11 21:28:31] INFO : Log from OTUsamples2krona\n",
      "Writing krona/b09.fa.tax.html...\n",
      "Krona charts have been created in krona\n",
      "Adios\n",
      "\n",
      "[2023-02-11 21:28:31] INFO : Created Krona plot                    :  /media/esuter/MyPassport/Oyster_Pathogen_WRI_Jupyter/results/b09/visualization/krona\n",
      "[2023-02-11 21:28:31] INFO : MIrROR analysis Completed!\n",
      "\n",
      "Total time used            : 2:55:36.603314\n",
      "\n",
      "MIrROR analysis log file is created : /media/esuter/MyPassport/Oyster_Pathogen_WRI_Jupyter/results/b09/b09.log\n",
      "\n",
      "(nanopore2) \n",
      "MIrROR analysis tool v1.0 Built on Apr 28 2022\n",
      "Command                    : ./MIrROR.py -V -d DBDIR -o ../results/b10 ../trimmed_fasta/b10.fa\n",
      "DataBase                   : /media/esuter/MyPassport/Oyster_Pathogen_WRI_Jupyter/MIrROR/DBDIR/MIrROR_DB_r01.mmi\n",
      "                             /media/esuter/MyPassport/Oyster_Pathogen_WRI_Jupyter/MIrROR/DBDIR/MIrROR_DB_r01.tsv\n",
      "                             Database release 01 (built Jan 21 2021)\n",
      "Input Format               : [FASTA] /media/esuter/MyPassport/Oyster_Pathogen_WRI_Jupyter/trimmed_fasta/b10.fa\n",
      "Group information          : No\n",
      "Read filtering threshold   : Number of residue matches - 2500 bp, Alignment block length - 3500 bp\n",
      "\n",
      "\n",
      "[2023-02-11 21:28:32] INFO : MIrROR analysis Start\n",
      "[2023-02-11 21:28:32] INFO : filecheck STEP START\n",
      "[2023-02-11 21:28:32] INFO : 1 sample proceeding\n",
      "[2023-02-11 21:28:32] INFO : mapping STEP START\n",
      "[2023-02-11 21:28:32] INFO : 1 / 1 Mapping...\n",
      "[2023-02-11 23:17:17] INFO : classification STEP START\n",
      "[2023-02-11 23:17:17] INFO : 1 / 1 Annotatioin...\n",
      "[2023-02-11 23:17:17] INFO : OTUtable STEP START\n",
      "[2023-02-11 23:17:17] INFO : Created OTU table (standard version)  : /media/esuter/MyPassport/Oyster_Pathogen_WRI_Jupyter/results/b10/OTUtable/OUTPUT_std.txt\n",
      "[2023-02-11 23:17:17] INFO :                   (MetaPhlAn version) : /media/esuter/MyPassport/Oyster_Pathogen_WRI_Jupyter/results/b10/OTUtable/OUTPUT_mpa.txt\n",
      "[2023-02-11 23:17:17] INFO :                   (for Krona plot)    : /media/esuter/MyPassport/Oyster_Pathogen_WRI_Jupyter/results/b10/OTUtable/OUTPUT_std_type2.txt\n",
      "[2023-02-11 23:17:17] INFO : visualization STEP START\n",
      "[2023-02-11 23:17:18] INFO : Created Stacked bar plot (phylum)     : /media/esuter/MyPassport/Oyster_Pathogen_WRI_Jupyter/results/b10/visualization/stacked_phylum.png\n",
      "[2023-02-11 23:17:18] INFO :                          (class)      : /media/esuter/MyPassport/Oyster_Pathogen_WRI_Jupyter/results/b10/visualization/stacked_class.png\n",
      "[2023-02-11 23:17:18] INFO :                          (order)      : /media/esuter/MyPassport/Oyster_Pathogen_WRI_Jupyter/results/b10/visualization/stacked_order.png\n",
      "[2023-02-11 23:17:19] INFO :                          (family)     : /media/esuter/MyPassport/Oyster_Pathogen_WRI_Jupyter/results/b10/visualization/stacked_family.png\n",
      "[2023-02-11 23:17:20] INFO :                          (genus)      : /media/esuter/MyPassport/Oyster_Pathogen_WRI_Jupyter/results/b10/visualization/stacked_genus.png\n",
      "[2023-02-11 23:17:21] INFO :                          (species)    : /media/esuter/MyPassport/Oyster_Pathogen_WRI_Jupyter/results/b10/visualization/stacked_species.png\n",
      "[2023-02-11 23:17:21] INFO : Log from OTUsamples2krona\n",
      "Writing krona/b10.fa.tax.html...\n",
      "Krona charts have been created in krona\n",
      "Adios\n",
      "\n",
      "[2023-02-11 23:17:21] INFO : Created Krona plot                    :  /media/esuter/MyPassport/Oyster_Pathogen_WRI_Jupyter/results/b10/visualization/krona\n",
      "[2023-02-11 23:17:21] INFO : MIrROR analysis Completed!\n",
      "\n",
      "Total time used            : 1:48:49.596072\n",
      "\n",
      "MIrROR analysis log file is created : /media/esuter/MyPassport/Oyster_Pathogen_WRI_Jupyter/results/b10/b10.log\n",
      "\n",
      "(nanopore2) \n",
      "MIrROR analysis tool v1.0 Built on Apr 28 2022\n",
      "Command                    : ./MIrROR.py -V -d DBDIR -o ../results/b11 ../trimmed_fasta/b11.fa\n",
      "DataBase                   : /media/esuter/MyPassport/Oyster_Pathogen_WRI_Jupyter/MIrROR/DBDIR/MIrROR_DB_r01.mmi\n",
      "                             /media/esuter/MyPassport/Oyster_Pathogen_WRI_Jupyter/MIrROR/DBDIR/MIrROR_DB_r01.tsv\n",
      "                             Database release 01 (built Jan 21 2021)\n",
      "Input Format               : [FASTA] /media/esuter/MyPassport/Oyster_Pathogen_WRI_Jupyter/trimmed_fasta/b11.fa\n",
      "Group information          : No\n",
      "Read filtering threshold   : Number of residue matches - 2500 bp, Alignment block length - 3500 bp\n",
      "\n",
      "\n",
      "[2023-02-11 23:17:21] INFO : MIrROR analysis Start\n",
      "[2023-02-11 23:17:21] INFO : filecheck STEP START\n",
      "[2023-02-11 23:17:21] INFO : 1 sample proceeding\n",
      "[2023-02-11 23:17:21] INFO : mapping STEP START\n",
      "[2023-02-11 23:17:21] INFO : 1 / 1 Mapping...\n",
      "[2023-02-11 23:24:11] INFO : classification STEP START\n",
      "[2023-02-11 23:24:11] INFO : 1 / 1 Annotatioin...\n",
      "[2023-02-11 23:24:11] INFO : OTUtable STEP START\n",
      "[2023-02-11 23:24:11] INFO : Created OTU table (standard version)  : /media/esuter/MyPassport/Oyster_Pathogen_WRI_Jupyter/results/b11/OTUtable/OUTPUT_std.txt\n",
      "[2023-02-11 23:24:11] INFO :                   (MetaPhlAn version) : /media/esuter/MyPassport/Oyster_Pathogen_WRI_Jupyter/results/b11/OTUtable/OUTPUT_mpa.txt\n",
      "[2023-02-11 23:24:11] INFO :                   (for Krona plot)    : /media/esuter/MyPassport/Oyster_Pathogen_WRI_Jupyter/results/b11/OTUtable/OUTPUT_std_type2.txt\n",
      "[2023-02-11 23:24:11] INFO : visualization STEP START\n",
      "[2023-02-11 23:24:11] INFO : Created Stacked bar plot (phylum)     : /media/esuter/MyPassport/Oyster_Pathogen_WRI_Jupyter/results/b11/visualization/stacked_phylum.png\n",
      "[2023-02-11 23:24:12] INFO :                          (class)      : /media/esuter/MyPassport/Oyster_Pathogen_WRI_Jupyter/results/b11/visualization/stacked_class.png\n",
      "[2023-02-11 23:24:12] INFO :                          (order)      : /media/esuter/MyPassport/Oyster_Pathogen_WRI_Jupyter/results/b11/visualization/stacked_order.png\n",
      "[2023-02-11 23:24:13] INFO :                          (family)     : /media/esuter/MyPassport/Oyster_Pathogen_WRI_Jupyter/results/b11/visualization/stacked_family.png\n",
      "[2023-02-11 23:24:13] INFO :                          (genus)      : /media/esuter/MyPassport/Oyster_Pathogen_WRI_Jupyter/results/b11/visualization/stacked_genus.png\n",
      "[2023-02-11 23:24:15] INFO :                          (species)    : /media/esuter/MyPassport/Oyster_Pathogen_WRI_Jupyter/results/b11/visualization/stacked_species.png\n",
      "[2023-02-11 23:24:15] INFO : Log from OTUsamples2krona\n",
      "Writing krona/b11.fa.tax.html...\n",
      "Krona charts have been created in krona\n",
      "Adios\n",
      "\n",
      "[2023-02-11 23:24:15] INFO : Created Krona plot                    :  /media/esuter/MyPassport/Oyster_Pathogen_WRI_Jupyter/results/b11/visualization/krona\n",
      "[2023-02-11 23:24:15] INFO : MIrROR analysis Completed!\n",
      "\n",
      "Total time used            : 0:06:53.543496\n",
      "\n",
      "MIrROR analysis log file is created : /media/esuter/MyPassport/Oyster_Pathogen_WRI_Jupyter/results/b11/b11.log\n",
      "\n",
      "(nanopore2) \n",
      "MIrROR analysis tool v1.0 Built on Apr 28 2022\n",
      "Command                    : ./MIrROR.py -V -d DBDIR -o ../results/b12 ../trimmed_fasta/b12.fa\n",
      "DataBase                   : /media/esuter/MyPassport/Oyster_Pathogen_WRI_Jupyter/MIrROR/DBDIR/MIrROR_DB_r01.mmi\n",
      "                             /media/esuter/MyPassport/Oyster_Pathogen_WRI_Jupyter/MIrROR/DBDIR/MIrROR_DB_r01.tsv\n",
      "                             Database release 01 (built Jan 21 2021)\n",
      "Input Format               : [FASTA] /media/esuter/MyPassport/Oyster_Pathogen_WRI_Jupyter/trimmed_fasta/b12.fa\n",
      "Group information          : No\n",
      "Read filtering threshold   : Number of residue matches - 2500 bp, Alignment block length - 3500 bp\n",
      "\n",
      "\n",
      "[2023-02-11 23:24:15] INFO : MIrROR analysis Start\n",
      "[2023-02-11 23:24:15] INFO : filecheck STEP START\n",
      "[2023-02-11 23:24:15] INFO : 1 sample proceeding\n",
      "[2023-02-11 23:24:15] INFO : mapping STEP START\n",
      "[2023-02-11 23:24:15] INFO : 1 / 1 Mapping...\n",
      "[2023-02-12 08:06:14] INFO : classification STEP START\n",
      "[2023-02-12 08:06:14] INFO : 1 / 1 Annotatioin...\n",
      "[2023-02-12 08:06:15] INFO : OTUtable STEP START\n",
      "[2023-02-12 08:06:15] INFO : Created OTU table (standard version)  : /media/esuter/MyPassport/Oyster_Pathogen_WRI_Jupyter/results/b12/OTUtable/OUTPUT_std.txt\n",
      "[2023-02-12 08:06:15] INFO :                   (MetaPhlAn version) : /media/esuter/MyPassport/Oyster_Pathogen_WRI_Jupyter/results/b12/OTUtable/OUTPUT_mpa.txt\n",
      "[2023-02-12 08:06:15] INFO :                   (for Krona plot)    : /media/esuter/MyPassport/Oyster_Pathogen_WRI_Jupyter/results/b12/OTUtable/OUTPUT_std_type2.txt\n",
      "[2023-02-12 08:06:15] INFO : visualization STEP START\n",
      "[2023-02-12 08:06:15] INFO : Created Stacked bar plot (phylum)     : /media/esuter/MyPassport/Oyster_Pathogen_WRI_Jupyter/results/b12/visualization/stacked_phylum.png\n",
      "[2023-02-12 08:06:15] INFO :                          (class)      : /media/esuter/MyPassport/Oyster_Pathogen_WRI_Jupyter/results/b12/visualization/stacked_class.png\n",
      "[2023-02-12 08:06:15] INFO :                          (order)      : /media/esuter/MyPassport/Oyster_Pathogen_WRI_Jupyter/results/b12/visualization/stacked_order.png\n",
      "[2023-02-12 08:06:15] INFO :                          (family)     : /media/esuter/MyPassport/Oyster_Pathogen_WRI_Jupyter/results/b12/visualization/stacked_family.png\n",
      "[2023-02-12 08:06:16] INFO :                          (genus)      : /media/esuter/MyPassport/Oyster_Pathogen_WRI_Jupyter/results/b12/visualization/stacked_genus.png\n",
      "[2023-02-12 08:06:16] INFO :                          (species)    : /media/esuter/MyPassport/Oyster_Pathogen_WRI_Jupyter/results/b12/visualization/stacked_species.png\n",
      "[2023-02-12 08:06:16] INFO : Log from OTUsamples2krona\n",
      "Writing krona/b12.fa.tax.html...\n",
      "Krona charts have been created in krona\n",
      "Adios\n",
      "\n",
      "[2023-02-12 08:06:16] INFO : Created Krona plot                    :  /media/esuter/MyPassport/Oyster_Pathogen_WRI_Jupyter/results/b12/visualization/krona\n",
      "[2023-02-12 08:06:16] INFO : MIrROR analysis Completed!\n",
      "\n",
      "Total time used            : 8:42:00.571859\n",
      "\n",
      "MIrROR analysis log file is created : /media/esuter/MyPassport/Oyster_Pathogen_WRI_Jupyter/results/b12/b12.log\n",
      "\n",
      "(nanopore2) \n"
     ]
    },
    {
     "ename": "",
     "evalue": "1",
     "output_type": "error",
     "traceback": []
    }
   ],
   "source": [
    "./MIrROR.py -V -d DBDIR -o ../results/b01 ../trimmed_fasta/b01.fa\n",
    "./MIrROR.py -V -d DBDIR -o ../results/b02 ../trimmed_fasta/b02.fa\n",
    "./MIrROR.py -V -d DBDIR -o ../results/b03 ../trimmed_fasta/b03.fa\n",
    "./MIrROR.py -V -d DBDIR -o ../results/b04 ../trimmed_fasta/b04.fa\n",
    "./MIrROR.py -V -d DBDIR -o ../results/b05 ../trimmed_fasta/b05.fa\n",
    "./MIrROR.py -V -d DBDIR -o ../results/b06 ../trimmed_fasta/b06.fa\n",
    "./MIrROR.py -V -d DBDIR -o ../results/b07 ../trimmed_fasta/b07.fa\n",
    "./MIrROR.py -V -d DBDIR -o ../results/b08 ../trimmed_fasta/b08.fa\n",
    "./MIrROR.py -V -d DBDIR -o ../results/b09 ../trimmed_fasta/b09.fa\n",
    "./MIrROR.py -V -d DBDIR -o ../results/b10 ../trimmed_fasta/b10.fa\n",
    "./MIrROR.py -V -d DBDIR -o ../results/b11 ../trimmed_fasta/b11.fa\n",
    "./MIrROR.py -V -d DBDIR -o ../results/b12 ../trimmed_fasta/b12.fa"
   ]
  },
  {
   "cell_type": "markdown",
   "id": "9dc0faf4-2a07-4038-865d-d31757c88e64",
   "metadata": {},
   "source": [
    "### Move to R for analysis of OTU tables, etc"
   ]
  }
 ],
 "metadata": {
  "kernelspec": {
   "display_name": "Bash",
   "language": "bash",
   "name": "bash"
  },
  "language_info": {
   "codemirror_mode": "shell",
   "file_extension": ".sh",
   "mimetype": "text/x-sh",
   "name": "bash"
  }
 },
 "nbformat": 4,
 "nbformat_minor": 5
}
